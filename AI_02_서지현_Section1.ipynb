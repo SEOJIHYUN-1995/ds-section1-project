{
  "nbformat": 4,
  "nbformat_minor": 0,
  "metadata": {
    "colab": {
      "name": "AI_02_서지현_Section1.ipynb",
      "provenance": []
    },
    "kernelspec": {
      "name": "python3",
      "display_name": "Python 3"
    },
    "language_info": {
      "name": "python"
    }
  },
  "cells": [
    {
      "cell_type": "markdown",
      "metadata": {
        "id": "HkR8FnU8L3xQ"
      },
      "source": [
        "# Section 1 Project : 다음 분기에 어떤 게임을 설계해야 할까.\n",
        "\n",
        "1. 지역에 따라서 선호하는 게임 장르가 다를까\n",
        "2. 연도별 게임의 트렌드가 있을까\n",
        "3. 출고량이 높은 게임에 대한 분석 및 시각화 프로세스\n",
        "4. 출고량이 높은 지역과 트렌드 분석 \n",
        "5. 결론"
      ]
    },
    {
      "cell_type": "code",
      "metadata": {
        "colab": {
          "base_uri": "https://localhost:8080/"
        },
        "id": "6cs5twR5UH0x",
        "outputId": "4f54ee8d-721b-463e-f1f1-3fc178173cee"
      },
      "source": [
        "!sudo apt-get install -y fonts-nanum\n",
        "!sudo fc-cache -fv\n",
        "!rm ~/.cache/matplotlib -rf"
      ],
      "execution_count": 229,
      "outputs": [
        {
          "output_type": "stream",
          "text": [
            "Reading package lists... Done\n",
            "Building dependency tree       \n",
            "Reading state information... Done\n",
            "fonts-nanum is already the newest version (20170925-1).\n",
            "0 upgraded, 0 newly installed, 0 to remove and 30 not upgraded.\n",
            "/usr/share/fonts: caching, new cache contents: 0 fonts, 1 dirs\n",
            "/usr/share/fonts/truetype: caching, new cache contents: 0 fonts, 3 dirs\n",
            "/usr/share/fonts/truetype/humor-sans: caching, new cache contents: 1 fonts, 0 dirs\n",
            "/usr/share/fonts/truetype/liberation: caching, new cache contents: 16 fonts, 0 dirs\n",
            "/usr/share/fonts/truetype/nanum: caching, new cache contents: 10 fonts, 0 dirs\n",
            "/usr/local/share/fonts: caching, new cache contents: 0 fonts, 0 dirs\n",
            "/root/.local/share/fonts: skipping, no such directory\n",
            "/root/.fonts: skipping, no such directory\n",
            "/var/cache/fontconfig: cleaning cache directory\n",
            "/root/.cache/fontconfig: not cleaning non-existent cache directory\n",
            "/root/.fontconfig: not cleaning non-existent cache directory\n",
            "fc-cache: succeeded\n"
          ],
          "name": "stdout"
        }
      ]
    },
    {
      "cell_type": "code",
      "metadata": {
        "id": "k_4xrPsbL3hD"
      },
      "source": [
        "import pandas as pd\n",
        "import matplotlib.pyplot as plt\n",
        "import seaborn as sns\n",
        "import numpy as np\n",
        "plt.rc('font', family='NanumBarunGothic') "
      ],
      "execution_count": 230,
      "outputs": []
    },
    {
      "cell_type": "code",
      "metadata": {
        "colab": {
          "base_uri": "https://localhost:8080/",
          "height": 399
        },
        "id": "vyJYpmzRNR9c",
        "outputId": "2aa8ec12-c979-4be8-c398-b7432ee3bfb1"
      },
      "source": [
        "#원본데이터 눈으로 살펴보기\n",
        "df0 = pd.read_csv('/content/vgames2.csv', index_col = 0)\n",
        "df0"
      ],
      "execution_count": 231,
      "outputs": [
        {
          "output_type": "execute_result",
          "data": {
            "text/html": [
              "<div>\n",
              "<style scoped>\n",
              "    .dataframe tbody tr th:only-of-type {\n",
              "        vertical-align: middle;\n",
              "    }\n",
              "\n",
              "    .dataframe tbody tr th {\n",
              "        vertical-align: top;\n",
              "    }\n",
              "\n",
              "    .dataframe thead th {\n",
              "        text-align: right;\n",
              "    }\n",
              "</style>\n",
              "<table border=\"1\" class=\"dataframe\">\n",
              "  <thead>\n",
              "    <tr style=\"text-align: right;\">\n",
              "      <th></th>\n",
              "      <th>Name</th>\n",
              "      <th>Platform</th>\n",
              "      <th>Year</th>\n",
              "      <th>Genre</th>\n",
              "      <th>Publisher</th>\n",
              "      <th>NA_Sales</th>\n",
              "      <th>EU_Sales</th>\n",
              "      <th>JP_Sales</th>\n",
              "      <th>Other_Sales</th>\n",
              "    </tr>\n",
              "  </thead>\n",
              "  <tbody>\n",
              "    <tr>\n",
              "      <th>1</th>\n",
              "      <td>Candace Kane's Candy Factory</td>\n",
              "      <td>DS</td>\n",
              "      <td>2008</td>\n",
              "      <td>Action</td>\n",
              "      <td>Destineer</td>\n",
              "      <td>0.04</td>\n",
              "      <td>0</td>\n",
              "      <td>0</td>\n",
              "      <td>0</td>\n",
              "    </tr>\n",
              "    <tr>\n",
              "      <th>2</th>\n",
              "      <td>The Munchables</td>\n",
              "      <td>Wii</td>\n",
              "      <td>2009</td>\n",
              "      <td>Action</td>\n",
              "      <td>Namco Bandai Games</td>\n",
              "      <td>0.17</td>\n",
              "      <td>0</td>\n",
              "      <td>0</td>\n",
              "      <td>0.01</td>\n",
              "    </tr>\n",
              "    <tr>\n",
              "      <th>3</th>\n",
              "      <td>Otome wa Oanesama Boku ni Koi Shiteru Portable</td>\n",
              "      <td>PSP</td>\n",
              "      <td>2010</td>\n",
              "      <td>Adventure</td>\n",
              "      <td>Alchemist</td>\n",
              "      <td>0</td>\n",
              "      <td>0</td>\n",
              "      <td>0.02</td>\n",
              "      <td>0</td>\n",
              "    </tr>\n",
              "    <tr>\n",
              "      <th>4</th>\n",
              "      <td>Deal or No Deal: Special Edition</td>\n",
              "      <td>DS</td>\n",
              "      <td>2010</td>\n",
              "      <td>Misc</td>\n",
              "      <td>Zoo Games</td>\n",
              "      <td>0.04</td>\n",
              "      <td>0</td>\n",
              "      <td>0</td>\n",
              "      <td>0</td>\n",
              "    </tr>\n",
              "    <tr>\n",
              "      <th>5</th>\n",
              "      <td>Ben 10 Ultimate Alien: Cosmic Destruction</td>\n",
              "      <td>PS3</td>\n",
              "      <td>2010</td>\n",
              "      <td>Platform</td>\n",
              "      <td>D3Publisher</td>\n",
              "      <td>0.12</td>\n",
              "      <td>0.09</td>\n",
              "      <td>0</td>\n",
              "      <td>0.04</td>\n",
              "    </tr>\n",
              "    <tr>\n",
              "      <th>...</th>\n",
              "      <td>...</td>\n",
              "      <td>...</td>\n",
              "      <td>...</td>\n",
              "      <td>...</td>\n",
              "      <td>...</td>\n",
              "      <td>...</td>\n",
              "      <td>...</td>\n",
              "      <td>...</td>\n",
              "      <td>...</td>\n",
              "    </tr>\n",
              "    <tr>\n",
              "      <th>16594</th>\n",
              "      <td>Ice Age 2: The Meltdown</td>\n",
              "      <td>GC</td>\n",
              "      <td>2006</td>\n",
              "      <td>Platform</td>\n",
              "      <td>Vivendi Games</td>\n",
              "      <td>0.15</td>\n",
              "      <td>0.04</td>\n",
              "      <td>0</td>\n",
              "      <td>0.01</td>\n",
              "    </tr>\n",
              "    <tr>\n",
              "      <th>16595</th>\n",
              "      <td>Rainbow Islands: Revolution</td>\n",
              "      <td>PSP</td>\n",
              "      <td>2005</td>\n",
              "      <td>Action</td>\n",
              "      <td>Rising Star Games</td>\n",
              "      <td>0.01</td>\n",
              "      <td>0</td>\n",
              "      <td>0</td>\n",
              "      <td>0</td>\n",
              "    </tr>\n",
              "    <tr>\n",
              "      <th>16596</th>\n",
              "      <td>NBA 2K16</td>\n",
              "      <td>PS3</td>\n",
              "      <td>2015</td>\n",
              "      <td>Sports</td>\n",
              "      <td>Take-Two Interactive</td>\n",
              "      <td>0.44</td>\n",
              "      <td>0.19</td>\n",
              "      <td>0.03</td>\n",
              "      <td>0.13</td>\n",
              "    </tr>\n",
              "    <tr>\n",
              "      <th>16597</th>\n",
              "      <td>Toukiden: The Age of Demons</td>\n",
              "      <td>PSV</td>\n",
              "      <td>2013</td>\n",
              "      <td>Action</td>\n",
              "      <td>Tecmo Koei</td>\n",
              "      <td>0.05</td>\n",
              "      <td>0.05</td>\n",
              "      <td>0.25</td>\n",
              "      <td>0.03</td>\n",
              "    </tr>\n",
              "    <tr>\n",
              "      <th>16598</th>\n",
              "      <td>The King of Fighters '95</td>\n",
              "      <td>PS</td>\n",
              "      <td>1996</td>\n",
              "      <td>Fighting</td>\n",
              "      <td>Sony Computer Entertainment</td>\n",
              "      <td>0</td>\n",
              "      <td>0</td>\n",
              "      <td>0.16</td>\n",
              "      <td>0.01</td>\n",
              "    </tr>\n",
              "  </tbody>\n",
              "</table>\n",
              "<p>16598 rows × 9 columns</p>\n",
              "</div>"
            ],
            "text/plain": [
              "                                                 Name  ... Other_Sales\n",
              "1                        Candace Kane's Candy Factory  ...           0\n",
              "2                                      The Munchables  ...        0.01\n",
              "3      Otome wa Oanesama Boku ni Koi Shiteru Portable  ...           0\n",
              "4                    Deal or No Deal: Special Edition  ...           0\n",
              "5           Ben 10 Ultimate Alien: Cosmic Destruction  ...        0.04\n",
              "...                                               ...  ...         ...\n",
              "16594                         Ice Age 2: The Meltdown  ...        0.01\n",
              "16595                     Rainbow Islands: Revolution  ...           0\n",
              "16596                                        NBA 2K16  ...        0.13\n",
              "16597                     Toukiden: The Age of Demons  ...        0.03\n",
              "16598                        The King of Fighters '95  ...        0.01\n",
              "\n",
              "[16598 rows x 9 columns]"
            ]
          },
          "metadata": {
            "tags": []
          },
          "execution_count": 231
        }
      ]
    },
    {
      "cell_type": "markdown",
      "metadata": {
        "id": "CONf-ooqN-Ek"
      },
      "source": [
        "Sales 칼럼들에서 M, K로 표기된 것을 발견, 엑셀에서 전처리."
      ]
    },
    {
      "cell_type": "code",
      "metadata": {
        "colab": {
          "base_uri": "https://localhost:8080/",
          "height": 399
        },
        "id": "CTqTFQcDNR_t",
        "outputId": "43c518d4-0799-45da-fafd-17ee41cf5b37"
      },
      "source": [
        "df = pd.read_csv('/content/vgames.csv', index_col = 0)\n",
        "df"
      ],
      "execution_count": 232,
      "outputs": [
        {
          "output_type": "execute_result",
          "data": {
            "text/html": [
              "<div>\n",
              "<style scoped>\n",
              "    .dataframe tbody tr th:only-of-type {\n",
              "        vertical-align: middle;\n",
              "    }\n",
              "\n",
              "    .dataframe tbody tr th {\n",
              "        vertical-align: top;\n",
              "    }\n",
              "\n",
              "    .dataframe thead th {\n",
              "        text-align: right;\n",
              "    }\n",
              "</style>\n",
              "<table border=\"1\" class=\"dataframe\">\n",
              "  <thead>\n",
              "    <tr style=\"text-align: right;\">\n",
              "      <th></th>\n",
              "      <th>Name</th>\n",
              "      <th>Platform</th>\n",
              "      <th>Year</th>\n",
              "      <th>Genre</th>\n",
              "      <th>Publisher</th>\n",
              "      <th>NA_Sales</th>\n",
              "      <th>EU_Sales</th>\n",
              "      <th>JP_Sales</th>\n",
              "      <th>Other_Sales</th>\n",
              "    </tr>\n",
              "  </thead>\n",
              "  <tbody>\n",
              "    <tr>\n",
              "      <th>1</th>\n",
              "      <td>Candace Kane's Candy Factory</td>\n",
              "      <td>DS</td>\n",
              "      <td>2008</td>\n",
              "      <td>Action</td>\n",
              "      <td>Destineer</td>\n",
              "      <td>0.04</td>\n",
              "      <td>0.00</td>\n",
              "      <td>0.00</td>\n",
              "      <td>0.00</td>\n",
              "    </tr>\n",
              "    <tr>\n",
              "      <th>2</th>\n",
              "      <td>The Munchables</td>\n",
              "      <td>Wii</td>\n",
              "      <td>2009</td>\n",
              "      <td>Action</td>\n",
              "      <td>Namco Bandai Games</td>\n",
              "      <td>0.17</td>\n",
              "      <td>0.00</td>\n",
              "      <td>0.00</td>\n",
              "      <td>0.01</td>\n",
              "    </tr>\n",
              "    <tr>\n",
              "      <th>3</th>\n",
              "      <td>Otome wa Oanesama Boku ni Koi Shiteru Portable</td>\n",
              "      <td>PSP</td>\n",
              "      <td>2010</td>\n",
              "      <td>Adventure</td>\n",
              "      <td>Alchemist</td>\n",
              "      <td>0.00</td>\n",
              "      <td>0.00</td>\n",
              "      <td>0.02</td>\n",
              "      <td>0.00</td>\n",
              "    </tr>\n",
              "    <tr>\n",
              "      <th>4</th>\n",
              "      <td>Deal or No Deal: Special Edition</td>\n",
              "      <td>DS</td>\n",
              "      <td>2010</td>\n",
              "      <td>Misc</td>\n",
              "      <td>Zoo Games</td>\n",
              "      <td>0.04</td>\n",
              "      <td>0.00</td>\n",
              "      <td>0.00</td>\n",
              "      <td>0.00</td>\n",
              "    </tr>\n",
              "    <tr>\n",
              "      <th>5</th>\n",
              "      <td>Ben 10 Ultimate Alien: Cosmic Destruction</td>\n",
              "      <td>PS3</td>\n",
              "      <td>2010</td>\n",
              "      <td>Platform</td>\n",
              "      <td>D3Publisher</td>\n",
              "      <td>0.12</td>\n",
              "      <td>0.09</td>\n",
              "      <td>0.00</td>\n",
              "      <td>0.04</td>\n",
              "    </tr>\n",
              "    <tr>\n",
              "      <th>...</th>\n",
              "      <td>...</td>\n",
              "      <td>...</td>\n",
              "      <td>...</td>\n",
              "      <td>...</td>\n",
              "      <td>...</td>\n",
              "      <td>...</td>\n",
              "      <td>...</td>\n",
              "      <td>...</td>\n",
              "      <td>...</td>\n",
              "    </tr>\n",
              "    <tr>\n",
              "      <th>16594</th>\n",
              "      <td>Ice Age 2: The Meltdown</td>\n",
              "      <td>GC</td>\n",
              "      <td>2006</td>\n",
              "      <td>Platform</td>\n",
              "      <td>Vivendi Games</td>\n",
              "      <td>0.15</td>\n",
              "      <td>0.04</td>\n",
              "      <td>0.00</td>\n",
              "      <td>0.01</td>\n",
              "    </tr>\n",
              "    <tr>\n",
              "      <th>16595</th>\n",
              "      <td>Rainbow Islands: Revolution</td>\n",
              "      <td>PSP</td>\n",
              "      <td>2005</td>\n",
              "      <td>Action</td>\n",
              "      <td>Rising Star Games</td>\n",
              "      <td>0.01</td>\n",
              "      <td>0.00</td>\n",
              "      <td>0.00</td>\n",
              "      <td>0.00</td>\n",
              "    </tr>\n",
              "    <tr>\n",
              "      <th>16596</th>\n",
              "      <td>NBA 2K16</td>\n",
              "      <td>PS3</td>\n",
              "      <td>2015</td>\n",
              "      <td>Sports</td>\n",
              "      <td>Take-Two Interactive</td>\n",
              "      <td>0.44</td>\n",
              "      <td>0.19</td>\n",
              "      <td>0.03</td>\n",
              "      <td>0.13</td>\n",
              "    </tr>\n",
              "    <tr>\n",
              "      <th>16597</th>\n",
              "      <td>Toukiden: The Age of Demons</td>\n",
              "      <td>PSV</td>\n",
              "      <td>2013</td>\n",
              "      <td>Action</td>\n",
              "      <td>Tecmo Koei</td>\n",
              "      <td>0.05</td>\n",
              "      <td>0.05</td>\n",
              "      <td>0.25</td>\n",
              "      <td>0.03</td>\n",
              "    </tr>\n",
              "    <tr>\n",
              "      <th>16598</th>\n",
              "      <td>The King of Fighters '95</td>\n",
              "      <td>PS</td>\n",
              "      <td>1996</td>\n",
              "      <td>Fighting</td>\n",
              "      <td>Sony Computer Entertainment</td>\n",
              "      <td>0.00</td>\n",
              "      <td>0.00</td>\n",
              "      <td>0.16</td>\n",
              "      <td>0.01</td>\n",
              "    </tr>\n",
              "  </tbody>\n",
              "</table>\n",
              "<p>16598 rows × 9 columns</p>\n",
              "</div>"
            ],
            "text/plain": [
              "                                                 Name  ... Other_Sales\n",
              "1                        Candace Kane's Candy Factory  ...        0.00\n",
              "2                                      The Munchables  ...        0.01\n",
              "3      Otome wa Oanesama Boku ni Koi Shiteru Portable  ...        0.00\n",
              "4                    Deal or No Deal: Special Edition  ...        0.00\n",
              "5           Ben 10 Ultimate Alien: Cosmic Destruction  ...        0.04\n",
              "...                                               ...  ...         ...\n",
              "16594                         Ice Age 2: The Meltdown  ...        0.01\n",
              "16595                     Rainbow Islands: Revolution  ...        0.00\n",
              "16596                                        NBA 2K16  ...        0.13\n",
              "16597                     Toukiden: The Age of Demons  ...        0.03\n",
              "16598                        The King of Fighters '95  ...        0.01\n",
              "\n",
              "[16598 rows x 9 columns]"
            ]
          },
          "metadata": {
            "tags": []
          },
          "execution_count": 232
        }
      ]
    },
    {
      "cell_type": "code",
      "metadata": {
        "id": "ohjxlGJ0O2Xt"
      },
      "source": [
        "df1 = pd.read_csv('/content/vgames.csv', index_col = 0)\n",
        "#원본 데이터는 놔두고 중복치 없애기 위한 새로운 데이터 프레임"
      ],
      "execution_count": 233,
      "outputs": []
    },
    {
      "cell_type": "code",
      "metadata": {
        "id": "WyyxpUIzOKpi"
      },
      "source": [
        "df1 = df1.drop_duplicates( ['Name', 'Platform'] )\n",
        "#이름과 플랫폼 중복인 항목 제거 "
      ],
      "execution_count": 234,
      "outputs": []
    },
    {
      "cell_type": "code",
      "metadata": {
        "id": "YnXAx1qjNSCJ"
      },
      "source": [
        "df1 = df1.drop_duplicates()\n",
        "#모든 내용 중복인 항목 제거"
      ],
      "execution_count": 235,
      "outputs": []
    },
    {
      "cell_type": "code",
      "metadata": {
        "colab": {
          "base_uri": "https://localhost:8080/"
        },
        "id": "SaskplRpO7LO",
        "outputId": "9d25b10d-a935-45bc-f943-6826070c4b8e"
      },
      "source": [
        "df.shape, df1.shape\n",
        "#중복 심한 행 5개 제거 확인"
      ],
      "execution_count": 236,
      "outputs": [
        {
          "output_type": "execute_result",
          "data": {
            "text/plain": [
              "((16598, 9), (16593, 9))"
            ]
          },
          "metadata": {
            "tags": []
          },
          "execution_count": 236
        }
      ]
    },
    {
      "cell_type": "code",
      "metadata": {
        "colab": {
          "base_uri": "https://localhost:8080/",
          "height": 399
        },
        "id": "X0CNRBfmNSEZ",
        "outputId": "407d800e-2768-4218-f467-de1a1da1952b"
      },
      "source": [
        "df1 = df1.dropna(axis=0)\n",
        "df1\n",
        "#결측치가 있는 행 358개 모두 제거"
      ],
      "execution_count": 237,
      "outputs": [
        {
          "output_type": "execute_result",
          "data": {
            "text/html": [
              "<div>\n",
              "<style scoped>\n",
              "    .dataframe tbody tr th:only-of-type {\n",
              "        vertical-align: middle;\n",
              "    }\n",
              "\n",
              "    .dataframe tbody tr th {\n",
              "        vertical-align: top;\n",
              "    }\n",
              "\n",
              "    .dataframe thead th {\n",
              "        text-align: right;\n",
              "    }\n",
              "</style>\n",
              "<table border=\"1\" class=\"dataframe\">\n",
              "  <thead>\n",
              "    <tr style=\"text-align: right;\">\n",
              "      <th></th>\n",
              "      <th>Name</th>\n",
              "      <th>Platform</th>\n",
              "      <th>Year</th>\n",
              "      <th>Genre</th>\n",
              "      <th>Publisher</th>\n",
              "      <th>NA_Sales</th>\n",
              "      <th>EU_Sales</th>\n",
              "      <th>JP_Sales</th>\n",
              "      <th>Other_Sales</th>\n",
              "    </tr>\n",
              "  </thead>\n",
              "  <tbody>\n",
              "    <tr>\n",
              "      <th>1</th>\n",
              "      <td>Candace Kane's Candy Factory</td>\n",
              "      <td>DS</td>\n",
              "      <td>2008</td>\n",
              "      <td>Action</td>\n",
              "      <td>Destineer</td>\n",
              "      <td>0.04</td>\n",
              "      <td>0.00</td>\n",
              "      <td>0.00</td>\n",
              "      <td>0.00</td>\n",
              "    </tr>\n",
              "    <tr>\n",
              "      <th>2</th>\n",
              "      <td>The Munchables</td>\n",
              "      <td>Wii</td>\n",
              "      <td>2009</td>\n",
              "      <td>Action</td>\n",
              "      <td>Namco Bandai Games</td>\n",
              "      <td>0.17</td>\n",
              "      <td>0.00</td>\n",
              "      <td>0.00</td>\n",
              "      <td>0.01</td>\n",
              "    </tr>\n",
              "    <tr>\n",
              "      <th>3</th>\n",
              "      <td>Otome wa Oanesama Boku ni Koi Shiteru Portable</td>\n",
              "      <td>PSP</td>\n",
              "      <td>2010</td>\n",
              "      <td>Adventure</td>\n",
              "      <td>Alchemist</td>\n",
              "      <td>0.00</td>\n",
              "      <td>0.00</td>\n",
              "      <td>0.02</td>\n",
              "      <td>0.00</td>\n",
              "    </tr>\n",
              "    <tr>\n",
              "      <th>4</th>\n",
              "      <td>Deal or No Deal: Special Edition</td>\n",
              "      <td>DS</td>\n",
              "      <td>2010</td>\n",
              "      <td>Misc</td>\n",
              "      <td>Zoo Games</td>\n",
              "      <td>0.04</td>\n",
              "      <td>0.00</td>\n",
              "      <td>0.00</td>\n",
              "      <td>0.00</td>\n",
              "    </tr>\n",
              "    <tr>\n",
              "      <th>5</th>\n",
              "      <td>Ben 10 Ultimate Alien: Cosmic Destruction</td>\n",
              "      <td>PS3</td>\n",
              "      <td>2010</td>\n",
              "      <td>Platform</td>\n",
              "      <td>D3Publisher</td>\n",
              "      <td>0.12</td>\n",
              "      <td>0.09</td>\n",
              "      <td>0.00</td>\n",
              "      <td>0.04</td>\n",
              "    </tr>\n",
              "    <tr>\n",
              "      <th>...</th>\n",
              "      <td>...</td>\n",
              "      <td>...</td>\n",
              "      <td>...</td>\n",
              "      <td>...</td>\n",
              "      <td>...</td>\n",
              "      <td>...</td>\n",
              "      <td>...</td>\n",
              "      <td>...</td>\n",
              "      <td>...</td>\n",
              "    </tr>\n",
              "    <tr>\n",
              "      <th>16594</th>\n",
              "      <td>Ice Age 2: The Meltdown</td>\n",
              "      <td>GC</td>\n",
              "      <td>2006</td>\n",
              "      <td>Platform</td>\n",
              "      <td>Vivendi Games</td>\n",
              "      <td>0.15</td>\n",
              "      <td>0.04</td>\n",
              "      <td>0.00</td>\n",
              "      <td>0.01</td>\n",
              "    </tr>\n",
              "    <tr>\n",
              "      <th>16595</th>\n",
              "      <td>Rainbow Islands: Revolution</td>\n",
              "      <td>PSP</td>\n",
              "      <td>2005</td>\n",
              "      <td>Action</td>\n",
              "      <td>Rising Star Games</td>\n",
              "      <td>0.01</td>\n",
              "      <td>0.00</td>\n",
              "      <td>0.00</td>\n",
              "      <td>0.00</td>\n",
              "    </tr>\n",
              "    <tr>\n",
              "      <th>16596</th>\n",
              "      <td>NBA 2K16</td>\n",
              "      <td>PS3</td>\n",
              "      <td>2015</td>\n",
              "      <td>Sports</td>\n",
              "      <td>Take-Two Interactive</td>\n",
              "      <td>0.44</td>\n",
              "      <td>0.19</td>\n",
              "      <td>0.03</td>\n",
              "      <td>0.13</td>\n",
              "    </tr>\n",
              "    <tr>\n",
              "      <th>16597</th>\n",
              "      <td>Toukiden: The Age of Demons</td>\n",
              "      <td>PSV</td>\n",
              "      <td>2013</td>\n",
              "      <td>Action</td>\n",
              "      <td>Tecmo Koei</td>\n",
              "      <td>0.05</td>\n",
              "      <td>0.05</td>\n",
              "      <td>0.25</td>\n",
              "      <td>0.03</td>\n",
              "    </tr>\n",
              "    <tr>\n",
              "      <th>16598</th>\n",
              "      <td>The King of Fighters '95</td>\n",
              "      <td>PS</td>\n",
              "      <td>1996</td>\n",
              "      <td>Fighting</td>\n",
              "      <td>Sony Computer Entertainment</td>\n",
              "      <td>0.00</td>\n",
              "      <td>0.00</td>\n",
              "      <td>0.16</td>\n",
              "      <td>0.01</td>\n",
              "    </tr>\n",
              "  </tbody>\n",
              "</table>\n",
              "<p>16235 rows × 9 columns</p>\n",
              "</div>"
            ],
            "text/plain": [
              "                                                 Name  ... Other_Sales\n",
              "1                        Candace Kane's Candy Factory  ...        0.00\n",
              "2                                      The Munchables  ...        0.01\n",
              "3      Otome wa Oanesama Boku ni Koi Shiteru Portable  ...        0.00\n",
              "4                    Deal or No Deal: Special Edition  ...        0.00\n",
              "5           Ben 10 Ultimate Alien: Cosmic Destruction  ...        0.04\n",
              "...                                               ...  ...         ...\n",
              "16594                         Ice Age 2: The Meltdown  ...        0.01\n",
              "16595                     Rainbow Islands: Revolution  ...        0.00\n",
              "16596                                        NBA 2K16  ...        0.13\n",
              "16597                     Toukiden: The Age of Demons  ...        0.03\n",
              "16598                        The King of Fighters '95  ...        0.01\n",
              "\n",
              "[16235 rows x 9 columns]"
            ]
          },
          "metadata": {
            "tags": []
          },
          "execution_count": 237
        }
      ]
    },
    {
      "cell_type": "code",
      "metadata": {
        "id": "wMgzbv72NSGX"
      },
      "source": [
        "df = df1\n",
        "#이후 분석의 편의성을 위해 df로 지정"
      ],
      "execution_count": 238,
      "outputs": []
    },
    {
      "cell_type": "code",
      "metadata": {
        "id": "wnyQ5KX0PMUH"
      },
      "source": [
        "df['Year'] = df['Year'].astype(int)"
      ],
      "execution_count": 239,
      "outputs": []
    },
    {
      "cell_type": "code",
      "metadata": {
        "colab": {
          "base_uri": "https://localhost:8080/"
        },
        "id": "k_QLo55yPBLp",
        "outputId": "6c99ec37-2812-4954-ca6b-8d04b30013aa"
      },
      "source": [
        "#'Year'칼럼에서 이상치 기록된 항목 삭제\n",
        "wy = df[df['Year'] <= 1000].index\n",
        "df3 = df.drop(wy)\n",
        "df3['Year']"
      ],
      "execution_count": 240,
      "outputs": [
        {
          "output_type": "execute_result",
          "data": {
            "text/plain": [
              "1        2008\n",
              "2        2009\n",
              "3        2010\n",
              "4        2010\n",
              "5        2010\n",
              "         ... \n",
              "16594    2006\n",
              "16595    2005\n",
              "16596    2015\n",
              "16597    2013\n",
              "16598    1996\n",
              "Name: Year, Length: 16135, dtype: int64"
            ]
          },
          "metadata": {
            "tags": []
          },
          "execution_count": 240
        }
      ]
    },
    {
      "cell_type": "code",
      "metadata": {
        "id": "iCDBD4jKPBOD"
      },
      "source": [
        "df['Year'] = df3['Year']"
      ],
      "execution_count": 241,
      "outputs": []
    },
    {
      "cell_type": "code",
      "metadata": {
        "colab": {
          "base_uri": "https://localhost:8080/",
          "height": 399
        },
        "id": "8G0ZFfCfPbJ9",
        "outputId": "c537447d-9b29-4a62-967d-f84dcf1db12e"
      },
      "source": [
        "#전처리 끝\n",
        "df\n",
        "#원본 데이터의 약 2.187% 제거"
      ],
      "execution_count": 242,
      "outputs": [
        {
          "output_type": "execute_result",
          "data": {
            "text/html": [
              "<div>\n",
              "<style scoped>\n",
              "    .dataframe tbody tr th:only-of-type {\n",
              "        vertical-align: middle;\n",
              "    }\n",
              "\n",
              "    .dataframe tbody tr th {\n",
              "        vertical-align: top;\n",
              "    }\n",
              "\n",
              "    .dataframe thead th {\n",
              "        text-align: right;\n",
              "    }\n",
              "</style>\n",
              "<table border=\"1\" class=\"dataframe\">\n",
              "  <thead>\n",
              "    <tr style=\"text-align: right;\">\n",
              "      <th></th>\n",
              "      <th>Name</th>\n",
              "      <th>Platform</th>\n",
              "      <th>Year</th>\n",
              "      <th>Genre</th>\n",
              "      <th>Publisher</th>\n",
              "      <th>NA_Sales</th>\n",
              "      <th>EU_Sales</th>\n",
              "      <th>JP_Sales</th>\n",
              "      <th>Other_Sales</th>\n",
              "    </tr>\n",
              "  </thead>\n",
              "  <tbody>\n",
              "    <tr>\n",
              "      <th>1</th>\n",
              "      <td>Candace Kane's Candy Factory</td>\n",
              "      <td>DS</td>\n",
              "      <td>2008.0</td>\n",
              "      <td>Action</td>\n",
              "      <td>Destineer</td>\n",
              "      <td>0.04</td>\n",
              "      <td>0.00</td>\n",
              "      <td>0.00</td>\n",
              "      <td>0.00</td>\n",
              "    </tr>\n",
              "    <tr>\n",
              "      <th>2</th>\n",
              "      <td>The Munchables</td>\n",
              "      <td>Wii</td>\n",
              "      <td>2009.0</td>\n",
              "      <td>Action</td>\n",
              "      <td>Namco Bandai Games</td>\n",
              "      <td>0.17</td>\n",
              "      <td>0.00</td>\n",
              "      <td>0.00</td>\n",
              "      <td>0.01</td>\n",
              "    </tr>\n",
              "    <tr>\n",
              "      <th>3</th>\n",
              "      <td>Otome wa Oanesama Boku ni Koi Shiteru Portable</td>\n",
              "      <td>PSP</td>\n",
              "      <td>2010.0</td>\n",
              "      <td>Adventure</td>\n",
              "      <td>Alchemist</td>\n",
              "      <td>0.00</td>\n",
              "      <td>0.00</td>\n",
              "      <td>0.02</td>\n",
              "      <td>0.00</td>\n",
              "    </tr>\n",
              "    <tr>\n",
              "      <th>4</th>\n",
              "      <td>Deal or No Deal: Special Edition</td>\n",
              "      <td>DS</td>\n",
              "      <td>2010.0</td>\n",
              "      <td>Misc</td>\n",
              "      <td>Zoo Games</td>\n",
              "      <td>0.04</td>\n",
              "      <td>0.00</td>\n",
              "      <td>0.00</td>\n",
              "      <td>0.00</td>\n",
              "    </tr>\n",
              "    <tr>\n",
              "      <th>5</th>\n",
              "      <td>Ben 10 Ultimate Alien: Cosmic Destruction</td>\n",
              "      <td>PS3</td>\n",
              "      <td>2010.0</td>\n",
              "      <td>Platform</td>\n",
              "      <td>D3Publisher</td>\n",
              "      <td>0.12</td>\n",
              "      <td>0.09</td>\n",
              "      <td>0.00</td>\n",
              "      <td>0.04</td>\n",
              "    </tr>\n",
              "    <tr>\n",
              "      <th>...</th>\n",
              "      <td>...</td>\n",
              "      <td>...</td>\n",
              "      <td>...</td>\n",
              "      <td>...</td>\n",
              "      <td>...</td>\n",
              "      <td>...</td>\n",
              "      <td>...</td>\n",
              "      <td>...</td>\n",
              "      <td>...</td>\n",
              "    </tr>\n",
              "    <tr>\n",
              "      <th>16594</th>\n",
              "      <td>Ice Age 2: The Meltdown</td>\n",
              "      <td>GC</td>\n",
              "      <td>2006.0</td>\n",
              "      <td>Platform</td>\n",
              "      <td>Vivendi Games</td>\n",
              "      <td>0.15</td>\n",
              "      <td>0.04</td>\n",
              "      <td>0.00</td>\n",
              "      <td>0.01</td>\n",
              "    </tr>\n",
              "    <tr>\n",
              "      <th>16595</th>\n",
              "      <td>Rainbow Islands: Revolution</td>\n",
              "      <td>PSP</td>\n",
              "      <td>2005.0</td>\n",
              "      <td>Action</td>\n",
              "      <td>Rising Star Games</td>\n",
              "      <td>0.01</td>\n",
              "      <td>0.00</td>\n",
              "      <td>0.00</td>\n",
              "      <td>0.00</td>\n",
              "    </tr>\n",
              "    <tr>\n",
              "      <th>16596</th>\n",
              "      <td>NBA 2K16</td>\n",
              "      <td>PS3</td>\n",
              "      <td>2015.0</td>\n",
              "      <td>Sports</td>\n",
              "      <td>Take-Two Interactive</td>\n",
              "      <td>0.44</td>\n",
              "      <td>0.19</td>\n",
              "      <td>0.03</td>\n",
              "      <td>0.13</td>\n",
              "    </tr>\n",
              "    <tr>\n",
              "      <th>16597</th>\n",
              "      <td>Toukiden: The Age of Demons</td>\n",
              "      <td>PSV</td>\n",
              "      <td>2013.0</td>\n",
              "      <td>Action</td>\n",
              "      <td>Tecmo Koei</td>\n",
              "      <td>0.05</td>\n",
              "      <td>0.05</td>\n",
              "      <td>0.25</td>\n",
              "      <td>0.03</td>\n",
              "    </tr>\n",
              "    <tr>\n",
              "      <th>16598</th>\n",
              "      <td>The King of Fighters '95</td>\n",
              "      <td>PS</td>\n",
              "      <td>1996.0</td>\n",
              "      <td>Fighting</td>\n",
              "      <td>Sony Computer Entertainment</td>\n",
              "      <td>0.00</td>\n",
              "      <td>0.00</td>\n",
              "      <td>0.16</td>\n",
              "      <td>0.01</td>\n",
              "    </tr>\n",
              "  </tbody>\n",
              "</table>\n",
              "<p>16235 rows × 9 columns</p>\n",
              "</div>"
            ],
            "text/plain": [
              "                                                 Name  ... Other_Sales\n",
              "1                        Candace Kane's Candy Factory  ...        0.00\n",
              "2                                      The Munchables  ...        0.01\n",
              "3      Otome wa Oanesama Boku ni Koi Shiteru Portable  ...        0.00\n",
              "4                    Deal or No Deal: Special Edition  ...        0.00\n",
              "5           Ben 10 Ultimate Alien: Cosmic Destruction  ...        0.04\n",
              "...                                               ...  ...         ...\n",
              "16594                         Ice Age 2: The Meltdown  ...        0.01\n",
              "16595                     Rainbow Islands: Revolution  ...        0.00\n",
              "16596                                        NBA 2K16  ...        0.13\n",
              "16597                     Toukiden: The Age of Demons  ...        0.03\n",
              "16598                        The King of Fighters '95  ...        0.01\n",
              "\n",
              "[16235 rows x 9 columns]"
            ]
          },
          "metadata": {
            "tags": []
          },
          "execution_count": 242
        }
      ]
    },
    {
      "cell_type": "markdown",
      "metadata": {
        "id": "mHAgNHvCPvfM"
      },
      "source": [
        "# 1. 지역에 따라서 선호하는 게임 장르가 다를까"
      ]
    },
    {
      "cell_type": "code",
      "metadata": {
        "colab": {
          "base_uri": "https://localhost:8080/"
        },
        "id": "IeghX2Q5PwKj",
        "outputId": "d0cb4321-1566-48f3-cc61-82452af529f0"
      },
      "source": [
        "df['Genre'].value_counts()"
      ],
      "execution_count": 243,
      "outputs": [
        {
          "output_type": "execute_result",
          "data": {
            "text/plain": [
              "Action          3240\n",
              "Sports          2298\n",
              "Misc            1681\n",
              "Role-Playing    1465\n",
              "Shooter         1280\n",
              "Adventure       1266\n",
              "Racing          1217\n",
              "Platform         872\n",
              "Simulation       846\n",
              "Fighting         835\n",
              "Strategy         669\n",
              "Puzzle           566\n",
              "Name: Genre, dtype: int64"
            ]
          },
          "metadata": {
            "tags": []
          },
          "execution_count": 243
        }
      ]
    },
    {
      "cell_type": "code",
      "metadata": {
        "id": "cRrJjv6TPBS_"
      },
      "source": [
        "#지역별 분석을 위한 df 생성\n",
        "nadf = df[['Genre', 'NA_Sales']]\n",
        "eudf = df[['Genre', 'EU_Sales']]\n",
        "jpdf = df[['Genre', 'JP_Sales']]\n",
        "otdf = df[['Genre', 'Other_Sales']]"
      ],
      "execution_count": 244,
      "outputs": []
    },
    {
      "cell_type": "code",
      "metadata": {
        "id": "31jSBaQHPBVd"
      },
      "source": [
        "# 북미대륙 장르별 판매량\n",
        "nagroup = nadf.groupby(nadf[\"Genre\"])"
      ],
      "execution_count": 245,
      "outputs": []
    },
    {
      "cell_type": "code",
      "metadata": {
        "id": "rpz89J75PBYE"
      },
      "source": [
        "# 북미대륙 장르별 판매량 총합\n",
        "nas = nagroup.sum()"
      ],
      "execution_count": 246,
      "outputs": []
    },
    {
      "cell_type": "code",
      "metadata": {
        "colab": {
          "base_uri": "https://localhost:8080/",
          "height": 428
        },
        "id": "8iziAk-ePBaq",
        "outputId": "31669943-e21f-499f-b440-31fbb167d11e"
      },
      "source": [
        "# 북미대륙 장르별 판매량 총합 내림차순 정렬\n",
        "nas.sort_values(by = ['NA_Sales'], ascending=False)"
      ],
      "execution_count": 247,
      "outputs": [
        {
          "output_type": "execute_result",
          "data": {
            "text/html": [
              "<div>\n",
              "<style scoped>\n",
              "    .dataframe tbody tr th:only-of-type {\n",
              "        vertical-align: middle;\n",
              "    }\n",
              "\n",
              "    .dataframe tbody tr th {\n",
              "        vertical-align: top;\n",
              "    }\n",
              "\n",
              "    .dataframe thead th {\n",
              "        text-align: right;\n",
              "    }\n",
              "</style>\n",
              "<table border=\"1\" class=\"dataframe\">\n",
              "  <thead>\n",
              "    <tr style=\"text-align: right;\">\n",
              "      <th></th>\n",
              "      <th>NA_Sales</th>\n",
              "    </tr>\n",
              "    <tr>\n",
              "      <th>Genre</th>\n",
              "      <th></th>\n",
              "    </tr>\n",
              "  </thead>\n",
              "  <tbody>\n",
              "    <tr>\n",
              "      <th>Action</th>\n",
              "      <td>858.75</td>\n",
              "    </tr>\n",
              "    <tr>\n",
              "      <th>Sports</th>\n",
              "      <td>667.26</td>\n",
              "    </tr>\n",
              "    <tr>\n",
              "      <th>Shooter</th>\n",
              "      <td>574.48</td>\n",
              "    </tr>\n",
              "    <tr>\n",
              "      <th>Platform</th>\n",
              "      <td>444.97</td>\n",
              "    </tr>\n",
              "    <tr>\n",
              "      <th>Misc</th>\n",
              "      <td>394.73</td>\n",
              "    </tr>\n",
              "    <tr>\n",
              "      <th>Racing</th>\n",
              "      <td>353.70</td>\n",
              "    </tr>\n",
              "    <tr>\n",
              "      <th>Role-Playing</th>\n",
              "      <td>318.76</td>\n",
              "    </tr>\n",
              "    <tr>\n",
              "      <th>Fighting</th>\n",
              "      <td>220.35</td>\n",
              "    </tr>\n",
              "    <tr>\n",
              "      <th>Simulation</th>\n",
              "      <td>181.43</td>\n",
              "    </tr>\n",
              "    <tr>\n",
              "      <th>Puzzle</th>\n",
              "      <td>121.58</td>\n",
              "    </tr>\n",
              "    <tr>\n",
              "      <th>Adventure</th>\n",
              "      <td>101.79</td>\n",
              "    </tr>\n",
              "    <tr>\n",
              "      <th>Strategy</th>\n",
              "      <td>67.83</td>\n",
              "    </tr>\n",
              "  </tbody>\n",
              "</table>\n",
              "</div>"
            ],
            "text/plain": [
              "              NA_Sales\n",
              "Genre                 \n",
              "Action          858.75\n",
              "Sports          667.26\n",
              "Shooter         574.48\n",
              "Platform        444.97\n",
              "Misc            394.73\n",
              "Racing          353.70\n",
              "Role-Playing    318.76\n",
              "Fighting        220.35\n",
              "Simulation      181.43\n",
              "Puzzle          121.58\n",
              "Adventure       101.79\n",
              "Strategy         67.83"
            ]
          },
          "metadata": {
            "tags": []
          },
          "execution_count": 247
        }
      ]
    },
    {
      "cell_type": "code",
      "metadata": {
        "colab": {
          "base_uri": "https://localhost:8080/",
          "height": 428
        },
        "id": "Xg5C7ukUPBdA",
        "outputId": "5bbb4eb4-8cfb-4586-af5d-aec08bef218b"
      },
      "source": [
        "#그래프를 그리기 위해 데이터 프레임 생성\n",
        "#nasg = nasg(raphic)\n",
        "nasg = nas.sort_values(by = ['NA_Sales'], ascending=False)\n",
        "nasg"
      ],
      "execution_count": 248,
      "outputs": [
        {
          "output_type": "execute_result",
          "data": {
            "text/html": [
              "<div>\n",
              "<style scoped>\n",
              "    .dataframe tbody tr th:only-of-type {\n",
              "        vertical-align: middle;\n",
              "    }\n",
              "\n",
              "    .dataframe tbody tr th {\n",
              "        vertical-align: top;\n",
              "    }\n",
              "\n",
              "    .dataframe thead th {\n",
              "        text-align: right;\n",
              "    }\n",
              "</style>\n",
              "<table border=\"1\" class=\"dataframe\">\n",
              "  <thead>\n",
              "    <tr style=\"text-align: right;\">\n",
              "      <th></th>\n",
              "      <th>NA_Sales</th>\n",
              "    </tr>\n",
              "    <tr>\n",
              "      <th>Genre</th>\n",
              "      <th></th>\n",
              "    </tr>\n",
              "  </thead>\n",
              "  <tbody>\n",
              "    <tr>\n",
              "      <th>Action</th>\n",
              "      <td>858.75</td>\n",
              "    </tr>\n",
              "    <tr>\n",
              "      <th>Sports</th>\n",
              "      <td>667.26</td>\n",
              "    </tr>\n",
              "    <tr>\n",
              "      <th>Shooter</th>\n",
              "      <td>574.48</td>\n",
              "    </tr>\n",
              "    <tr>\n",
              "      <th>Platform</th>\n",
              "      <td>444.97</td>\n",
              "    </tr>\n",
              "    <tr>\n",
              "      <th>Misc</th>\n",
              "      <td>394.73</td>\n",
              "    </tr>\n",
              "    <tr>\n",
              "      <th>Racing</th>\n",
              "      <td>353.70</td>\n",
              "    </tr>\n",
              "    <tr>\n",
              "      <th>Role-Playing</th>\n",
              "      <td>318.76</td>\n",
              "    </tr>\n",
              "    <tr>\n",
              "      <th>Fighting</th>\n",
              "      <td>220.35</td>\n",
              "    </tr>\n",
              "    <tr>\n",
              "      <th>Simulation</th>\n",
              "      <td>181.43</td>\n",
              "    </tr>\n",
              "    <tr>\n",
              "      <th>Puzzle</th>\n",
              "      <td>121.58</td>\n",
              "    </tr>\n",
              "    <tr>\n",
              "      <th>Adventure</th>\n",
              "      <td>101.79</td>\n",
              "    </tr>\n",
              "    <tr>\n",
              "      <th>Strategy</th>\n",
              "      <td>67.83</td>\n",
              "    </tr>\n",
              "  </tbody>\n",
              "</table>\n",
              "</div>"
            ],
            "text/plain": [
              "              NA_Sales\n",
              "Genre                 \n",
              "Action          858.75\n",
              "Sports          667.26\n",
              "Shooter         574.48\n",
              "Platform        444.97\n",
              "Misc            394.73\n",
              "Racing          353.70\n",
              "Role-Playing    318.76\n",
              "Fighting        220.35\n",
              "Simulation      181.43\n",
              "Puzzle          121.58\n",
              "Adventure       101.79\n",
              "Strategy         67.83"
            ]
          },
          "metadata": {
            "tags": []
          },
          "execution_count": 248
        }
      ]
    },
    {
      "cell_type": "code",
      "metadata": {
        "id": "s9tbzxbuPBff"
      },
      "source": [
        "nasg.reset_index(drop=False, inplace=True)"
      ],
      "execution_count": 249,
      "outputs": []
    },
    {
      "cell_type": "code",
      "metadata": {
        "colab": {
          "base_uri": "https://localhost:8080/",
          "height": 399
        },
        "id": "2HBEV3CjPBiP",
        "outputId": "6223da23-e3a9-4e0b-b2de-5eddbb2a1124"
      },
      "source": [
        "nasg"
      ],
      "execution_count": 250,
      "outputs": [
        {
          "output_type": "execute_result",
          "data": {
            "text/html": [
              "<div>\n",
              "<style scoped>\n",
              "    .dataframe tbody tr th:only-of-type {\n",
              "        vertical-align: middle;\n",
              "    }\n",
              "\n",
              "    .dataframe tbody tr th {\n",
              "        vertical-align: top;\n",
              "    }\n",
              "\n",
              "    .dataframe thead th {\n",
              "        text-align: right;\n",
              "    }\n",
              "</style>\n",
              "<table border=\"1\" class=\"dataframe\">\n",
              "  <thead>\n",
              "    <tr style=\"text-align: right;\">\n",
              "      <th></th>\n",
              "      <th>Genre</th>\n",
              "      <th>NA_Sales</th>\n",
              "    </tr>\n",
              "  </thead>\n",
              "  <tbody>\n",
              "    <tr>\n",
              "      <th>0</th>\n",
              "      <td>Action</td>\n",
              "      <td>858.75</td>\n",
              "    </tr>\n",
              "    <tr>\n",
              "      <th>1</th>\n",
              "      <td>Sports</td>\n",
              "      <td>667.26</td>\n",
              "    </tr>\n",
              "    <tr>\n",
              "      <th>2</th>\n",
              "      <td>Shooter</td>\n",
              "      <td>574.48</td>\n",
              "    </tr>\n",
              "    <tr>\n",
              "      <th>3</th>\n",
              "      <td>Platform</td>\n",
              "      <td>444.97</td>\n",
              "    </tr>\n",
              "    <tr>\n",
              "      <th>4</th>\n",
              "      <td>Misc</td>\n",
              "      <td>394.73</td>\n",
              "    </tr>\n",
              "    <tr>\n",
              "      <th>5</th>\n",
              "      <td>Racing</td>\n",
              "      <td>353.70</td>\n",
              "    </tr>\n",
              "    <tr>\n",
              "      <th>6</th>\n",
              "      <td>Role-Playing</td>\n",
              "      <td>318.76</td>\n",
              "    </tr>\n",
              "    <tr>\n",
              "      <th>7</th>\n",
              "      <td>Fighting</td>\n",
              "      <td>220.35</td>\n",
              "    </tr>\n",
              "    <tr>\n",
              "      <th>8</th>\n",
              "      <td>Simulation</td>\n",
              "      <td>181.43</td>\n",
              "    </tr>\n",
              "    <tr>\n",
              "      <th>9</th>\n",
              "      <td>Puzzle</td>\n",
              "      <td>121.58</td>\n",
              "    </tr>\n",
              "    <tr>\n",
              "      <th>10</th>\n",
              "      <td>Adventure</td>\n",
              "      <td>101.79</td>\n",
              "    </tr>\n",
              "    <tr>\n",
              "      <th>11</th>\n",
              "      <td>Strategy</td>\n",
              "      <td>67.83</td>\n",
              "    </tr>\n",
              "  </tbody>\n",
              "</table>\n",
              "</div>"
            ],
            "text/plain": [
              "           Genre  NA_Sales\n",
              "0         Action    858.75\n",
              "1         Sports    667.26\n",
              "2        Shooter    574.48\n",
              "3       Platform    444.97\n",
              "4           Misc    394.73\n",
              "5         Racing    353.70\n",
              "6   Role-Playing    318.76\n",
              "7       Fighting    220.35\n",
              "8     Simulation    181.43\n",
              "9         Puzzle    121.58\n",
              "10     Adventure    101.79\n",
              "11      Strategy     67.83"
            ]
          },
          "metadata": {
            "tags": []
          },
          "execution_count": 250
        }
      ]
    },
    {
      "cell_type": "code",
      "metadata": {
        "colab": {
          "base_uri": "https://localhost:8080/",
          "height": 319
        },
        "id": "27QKTxwVPBkj",
        "outputId": "bc41bc54-5806-4ebc-9ed9-4d232a76db6a"
      },
      "source": [
        "#북미 판매량\n",
        "plt.figure(figsize=(18,4))\n",
        "plt.title(\"북미지역 장르별 게임 판매량\", size= 20)\n",
        "sns.barplot(data = nasg,\n",
        "           x = \"Genre\",\n",
        "           y = \"NA_Sales\")"
      ],
      "execution_count": 251,
      "outputs": [
        {
          "output_type": "execute_result",
          "data": {
            "text/plain": [
              "<matplotlib.axes._subplots.AxesSubplot at 0x7fcc845fbd10>"
            ]
          },
          "metadata": {
            "tags": []
          },
          "execution_count": 251
        },
        {
          "output_type": "display_data",
          "data": {
            "image/png": "[encoded data removed]",
            "text/plain": [
              "<Figure size 1296x288 with 1 Axes>"
            ]
          },
          "metadata": {
            "tags": [],
            "needs_background": "light"
          }
        }
      ]
    },
    {
      "cell_type": "code",
      "metadata": {
        "colab": {
          "base_uri": "https://localhost:8080/",
          "height": 399
        },
        "id": "46-y6YJCPBnP",
        "outputId": "1bf8a3e3-8498-48be-dc87-18ff49b89517"
      },
      "source": [
        "# 유럽대륙 판매량\n",
        "eudf"
      ],
      "execution_count": 252,
      "outputs": [
        {
          "output_type": "execute_result",
          "data": {
            "text/html": [
              "<div>\n",
              "<style scoped>\n",
              "    .dataframe tbody tr th:only-of-type {\n",
              "        vertical-align: middle;\n",
              "    }\n",
              "\n",
              "    .dataframe tbody tr th {\n",
              "        vertical-align: top;\n",
              "    }\n",
              "\n",
              "    .dataframe thead th {\n",
              "        text-align: right;\n",
              "    }\n",
              "</style>\n",
              "<table border=\"1\" class=\"dataframe\">\n",
              "  <thead>\n",
              "    <tr style=\"text-align: right;\">\n",
              "      <th></th>\n",
              "      <th>Genre</th>\n",
              "      <th>EU_Sales</th>\n",
              "    </tr>\n",
              "  </thead>\n",
              "  <tbody>\n",
              "    <tr>\n",
              "      <th>1</th>\n",
              "      <td>Action</td>\n",
              "      <td>0.00</td>\n",
              "    </tr>\n",
              "    <tr>\n",
              "      <th>2</th>\n",
              "      <td>Action</td>\n",
              "      <td>0.00</td>\n",
              "    </tr>\n",
              "    <tr>\n",
              "      <th>3</th>\n",
              "      <td>Adventure</td>\n",
              "      <td>0.00</td>\n",
              "    </tr>\n",
              "    <tr>\n",
              "      <th>4</th>\n",
              "      <td>Misc</td>\n",
              "      <td>0.00</td>\n",
              "    </tr>\n",
              "    <tr>\n",
              "      <th>5</th>\n",
              "      <td>Platform</td>\n",
              "      <td>0.09</td>\n",
              "    </tr>\n",
              "    <tr>\n",
              "      <th>...</th>\n",
              "      <td>...</td>\n",
              "      <td>...</td>\n",
              "    </tr>\n",
              "    <tr>\n",
              "      <th>16594</th>\n",
              "      <td>Platform</td>\n",
              "      <td>0.04</td>\n",
              "    </tr>\n",
              "    <tr>\n",
              "      <th>16595</th>\n",
              "      <td>Action</td>\n",
              "      <td>0.00</td>\n",
              "    </tr>\n",
              "    <tr>\n",
              "      <th>16596</th>\n",
              "      <td>Sports</td>\n",
              "      <td>0.19</td>\n",
              "    </tr>\n",
              "    <tr>\n",
              "      <th>16597</th>\n",
              "      <td>Action</td>\n",
              "      <td>0.05</td>\n",
              "    </tr>\n",
              "    <tr>\n",
              "      <th>16598</th>\n",
              "      <td>Fighting</td>\n",
              "      <td>0.00</td>\n",
              "    </tr>\n",
              "  </tbody>\n",
              "</table>\n",
              "<p>16235 rows × 2 columns</p>\n",
              "</div>"
            ],
            "text/plain": [
              "           Genre  EU_Sales\n",
              "1         Action      0.00\n",
              "2         Action      0.00\n",
              "3      Adventure      0.00\n",
              "4           Misc      0.00\n",
              "5       Platform      0.09\n",
              "...          ...       ...\n",
              "16594   Platform      0.04\n",
              "16595     Action      0.00\n",
              "16596     Sports      0.19\n",
              "16597     Action      0.05\n",
              "16598   Fighting      0.00\n",
              "\n",
              "[16235 rows x 2 columns]"
            ]
          },
          "metadata": {
            "tags": []
          },
          "execution_count": 252
        }
      ]
    },
    {
      "cell_type": "code",
      "metadata": {
        "colab": {
          "base_uri": "https://localhost:8080/",
          "height": 428
        },
        "id": "5xhcpp9BPBpr",
        "outputId": "28e76fd3-2a5f-4b18-f95b-e2a7f6c6370e"
      },
      "source": [
        "# 유럽대륙 장르별 판매량\n",
        "eugroup = eudf.groupby(eudf[\"Genre\"])\n",
        "# 유럽대륙 장르별 판매량 총합\n",
        "eus = eugroup.sum()\n",
        "# 유럽대륙 장르별 판매량 총합 내림차순 정렬\n",
        "eus.sort_values(by = ['EU_Sales'], ascending=False)"
      ],
      "execution_count": 253,
      "outputs": [
        {
          "output_type": "execute_result",
          "data": {
            "text/html": [
              "<div>\n",
              "<style scoped>\n",
              "    .dataframe tbody tr th:only-of-type {\n",
              "        vertical-align: middle;\n",
              "    }\n",
              "\n",
              "    .dataframe tbody tr th {\n",
              "        vertical-align: top;\n",
              "    }\n",
              "\n",
              "    .dataframe thead th {\n",
              "        text-align: right;\n",
              "    }\n",
              "</style>\n",
              "<table border=\"1\" class=\"dataframe\">\n",
              "  <thead>\n",
              "    <tr style=\"text-align: right;\">\n",
              "      <th></th>\n",
              "      <th>EU_Sales</th>\n",
              "    </tr>\n",
              "    <tr>\n",
              "      <th>Genre</th>\n",
              "      <th></th>\n",
              "    </tr>\n",
              "  </thead>\n",
              "  <tbody>\n",
              "    <tr>\n",
              "      <th>Action</th>\n",
              "      <td>513.64</td>\n",
              "    </tr>\n",
              "    <tr>\n",
              "      <th>Sports</th>\n",
              "      <td>370.96</td>\n",
              "    </tr>\n",
              "    <tr>\n",
              "      <th>Shooter</th>\n",
              "      <td>310.23</td>\n",
              "    </tr>\n",
              "    <tr>\n",
              "      <th>Racing</th>\n",
              "      <td>234.79</td>\n",
              "    </tr>\n",
              "    <tr>\n",
              "      <th>Misc</th>\n",
              "      <td>208.15</td>\n",
              "    </tr>\n",
              "    <tr>\n",
              "      <th>Platform</th>\n",
              "      <td>200.56</td>\n",
              "    </tr>\n",
              "    <tr>\n",
              "      <th>Role-Playing</th>\n",
              "      <td>183.09</td>\n",
              "    </tr>\n",
              "    <tr>\n",
              "      <th>Simulation</th>\n",
              "      <td>112.99</td>\n",
              "    </tr>\n",
              "    <tr>\n",
              "      <th>Fighting</th>\n",
              "      <td>99.90</td>\n",
              "    </tr>\n",
              "    <tr>\n",
              "      <th>Adventure</th>\n",
              "      <td>63.66</td>\n",
              "    </tr>\n",
              "    <tr>\n",
              "      <th>Puzzle</th>\n",
              "      <td>50.47</td>\n",
              "    </tr>\n",
              "    <tr>\n",
              "      <th>Strategy</th>\n",
              "      <td>44.82</td>\n",
              "    </tr>\n",
              "  </tbody>\n",
              "</table>\n",
              "</div>"
            ],
            "text/plain": [
              "              EU_Sales\n",
              "Genre                 \n",
              "Action          513.64\n",
              "Sports          370.96\n",
              "Shooter         310.23\n",
              "Racing          234.79\n",
              "Misc            208.15\n",
              "Platform        200.56\n",
              "Role-Playing    183.09\n",
              "Simulation      112.99\n",
              "Fighting         99.90\n",
              "Adventure        63.66\n",
              "Puzzle           50.47\n",
              "Strategy         44.82"
            ]
          },
          "metadata": {
            "tags": []
          },
          "execution_count": 253
        }
      ]
    },
    {
      "cell_type": "code",
      "metadata": {
        "id": "53HHetp0QnrO"
      },
      "source": [
        "#그래프를 그리기 위해 데이터 프레임 생성\n",
        "#eusg = eusg(raphic)\n",
        "eusg = eus.sort_values(by = ['EU_Sales'], ascending=False)\n",
        "eusg.reset_index(drop=False, inplace=True)"
      ],
      "execution_count": 254,
      "outputs": []
    },
    {
      "cell_type": "code",
      "metadata": {
        "colab": {
          "base_uri": "https://localhost:8080/",
          "height": 319
        },
        "id": "39sx9nKJPBtD",
        "outputId": "8fb53b6f-8c3a-4894-eead-ab6e1554aeae"
      },
      "source": [
        "#유럽 판매량\n",
        "plt.figure(figsize=(18,4))\n",
        "plt.title(\"유럽지역 장르별 게임 판매량\", size= 20)\n",
        "sns.barplot(data = eusg,\n",
        "           x = \"Genre\",\n",
        "           y = \"EU_Sales\")"
      ],
      "execution_count": 255,
      "outputs": [
        {
          "output_type": "execute_result",
          "data": {
            "text/plain": [
              "<matplotlib.axes._subplots.AxesSubplot at 0x7fcc8451a9d0>"
            ]
          },
          "metadata": {
            "tags": []
          },
          "execution_count": 255
        },
        {
          "output_type": "display_data",
          "data": {
            "image/png": "[encoded data removed]",
            "text/plain": [
              "<Figure size 1296x288 with 1 Axes>"
            ]
          },
          "metadata": {
            "tags": [],
            "needs_background": "light"
          }
        }
      ]
    },
    {
      "cell_type": "code",
      "metadata": {
        "colab": {
          "base_uri": "https://localhost:8080/",
          "height": 428
        },
        "id": "L7KhguVLPBu1",
        "outputId": "6391418d-8bab-4058-b1b3-018248efbdb7"
      },
      "source": [
        "# 일본 판매량\n",
        "jpdf\n",
        "# 일본 장르별 판매량\n",
        "jpgroup = jpdf.groupby(jpdf[\"Genre\"])\n",
        "# 일본 장르별 판매량 총합\n",
        "jps = jpgroup.sum()\n",
        "# 일본 장르별 판매량 총합 내림차순 정렬\n",
        "jps.sort_values(by = ['JP_Sales'], ascending=False)"
      ],
      "execution_count": 256,
      "outputs": [
        {
          "output_type": "execute_result",
          "data": {
            "text/html": [
              "<div>\n",
              "<style scoped>\n",
              "    .dataframe tbody tr th:only-of-type {\n",
              "        vertical-align: middle;\n",
              "    }\n",
              "\n",
              "    .dataframe tbody tr th {\n",
              "        vertical-align: top;\n",
              "    }\n",
              "\n",
              "    .dataframe thead th {\n",
              "        text-align: right;\n",
              "    }\n",
              "</style>\n",
              "<table border=\"1\" class=\"dataframe\">\n",
              "  <thead>\n",
              "    <tr style=\"text-align: right;\">\n",
              "      <th></th>\n",
              "      <th>JP_Sales</th>\n",
              "    </tr>\n",
              "    <tr>\n",
              "      <th>Genre</th>\n",
              "      <th></th>\n",
              "    </tr>\n",
              "  </thead>\n",
              "  <tbody>\n",
              "    <tr>\n",
              "      <th>Role-Playing</th>\n",
              "      <td>342.93</td>\n",
              "    </tr>\n",
              "    <tr>\n",
              "      <th>Action</th>\n",
              "      <td>156.60</td>\n",
              "    </tr>\n",
              "    <tr>\n",
              "      <th>Sports</th>\n",
              "      <td>134.76</td>\n",
              "    </tr>\n",
              "    <tr>\n",
              "      <th>Platform</th>\n",
              "      <td>130.49</td>\n",
              "    </tr>\n",
              "    <tr>\n",
              "      <th>Misc</th>\n",
              "      <td>104.18</td>\n",
              "    </tr>\n",
              "    <tr>\n",
              "      <th>Fighting</th>\n",
              "      <td>87.14</td>\n",
              "    </tr>\n",
              "    <tr>\n",
              "      <th>Simulation</th>\n",
              "      <td>63.54</td>\n",
              "    </tr>\n",
              "    <tr>\n",
              "      <th>Racing</th>\n",
              "      <td>56.30</td>\n",
              "    </tr>\n",
              "    <tr>\n",
              "      <th>Puzzle</th>\n",
              "      <td>56.24</td>\n",
              "    </tr>\n",
              "    <tr>\n",
              "      <th>Adventure</th>\n",
              "      <td>51.75</td>\n",
              "    </tr>\n",
              "    <tr>\n",
              "      <th>Strategy</th>\n",
              "      <td>49.10</td>\n",
              "    </tr>\n",
              "    <tr>\n",
              "      <th>Shooter</th>\n",
              "      <td>38.18</td>\n",
              "    </tr>\n",
              "  </tbody>\n",
              "</table>\n",
              "</div>"
            ],
            "text/plain": [
              "              JP_Sales\n",
              "Genre                 \n",
              "Role-Playing    342.93\n",
              "Action          156.60\n",
              "Sports          134.76\n",
              "Platform        130.49\n",
              "Misc            104.18\n",
              "Fighting         87.14\n",
              "Simulation       63.54\n",
              "Racing           56.30\n",
              "Puzzle           56.24\n",
              "Adventure        51.75\n",
              "Strategy         49.10\n",
              "Shooter          38.18"
            ]
          },
          "metadata": {
            "tags": []
          },
          "execution_count": 256
        }
      ]
    },
    {
      "cell_type": "code",
      "metadata": {
        "colab": {
          "base_uri": "https://localhost:8080/",
          "height": 428
        },
        "id": "9J3jcishPBw_",
        "outputId": "ca4740d8-68c3-4d2d-d225-e91b397d6055"
      },
      "source": [
        "#그래프를 그리기 위해 데이터 프레임 생성\n",
        "#jpsg = jpsg(raphic)\n",
        "jpsg = jps.sort_values(by = ['JP_Sales'], ascending=False)\n",
        "jpsg"
      ],
      "execution_count": 257,
      "outputs": [
        {
          "output_type": "execute_result",
          "data": {
            "text/html": [
              "<div>\n",
              "<style scoped>\n",
              "    .dataframe tbody tr th:only-of-type {\n",
              "        vertical-align: middle;\n",
              "    }\n",
              "\n",
              "    .dataframe tbody tr th {\n",
              "        vertical-align: top;\n",
              "    }\n",
              "\n",
              "    .dataframe thead th {\n",
              "        text-align: right;\n",
              "    }\n",
              "</style>\n",
              "<table border=\"1\" class=\"dataframe\">\n",
              "  <thead>\n",
              "    <tr style=\"text-align: right;\">\n",
              "      <th></th>\n",
              "      <th>JP_Sales</th>\n",
              "    </tr>\n",
              "    <tr>\n",
              "      <th>Genre</th>\n",
              "      <th></th>\n",
              "    </tr>\n",
              "  </thead>\n",
              "  <tbody>\n",
              "    <tr>\n",
              "      <th>Role-Playing</th>\n",
              "      <td>342.93</td>\n",
              "    </tr>\n",
              "    <tr>\n",
              "      <th>Action</th>\n",
              "      <td>156.60</td>\n",
              "    </tr>\n",
              "    <tr>\n",
              "      <th>Sports</th>\n",
              "      <td>134.76</td>\n",
              "    </tr>\n",
              "    <tr>\n",
              "      <th>Platform</th>\n",
              "      <td>130.49</td>\n",
              "    </tr>\n",
              "    <tr>\n",
              "      <th>Misc</th>\n",
              "      <td>104.18</td>\n",
              "    </tr>\n",
              "    <tr>\n",
              "      <th>Fighting</th>\n",
              "      <td>87.14</td>\n",
              "    </tr>\n",
              "    <tr>\n",
              "      <th>Simulation</th>\n",
              "      <td>63.54</td>\n",
              "    </tr>\n",
              "    <tr>\n",
              "      <th>Racing</th>\n",
              "      <td>56.30</td>\n",
              "    </tr>\n",
              "    <tr>\n",
              "      <th>Puzzle</th>\n",
              "      <td>56.24</td>\n",
              "    </tr>\n",
              "    <tr>\n",
              "      <th>Adventure</th>\n",
              "      <td>51.75</td>\n",
              "    </tr>\n",
              "    <tr>\n",
              "      <th>Strategy</th>\n",
              "      <td>49.10</td>\n",
              "    </tr>\n",
              "    <tr>\n",
              "      <th>Shooter</th>\n",
              "      <td>38.18</td>\n",
              "    </tr>\n",
              "  </tbody>\n",
              "</table>\n",
              "</div>"
            ],
            "text/plain": [
              "              JP_Sales\n",
              "Genre                 \n",
              "Role-Playing    342.93\n",
              "Action          156.60\n",
              "Sports          134.76\n",
              "Platform        130.49\n",
              "Misc            104.18\n",
              "Fighting         87.14\n",
              "Simulation       63.54\n",
              "Racing           56.30\n",
              "Puzzle           56.24\n",
              "Adventure        51.75\n",
              "Strategy         49.10\n",
              "Shooter          38.18"
            ]
          },
          "metadata": {
            "tags": []
          },
          "execution_count": 257
        }
      ]
    },
    {
      "cell_type": "code",
      "metadata": {
        "id": "LgXcTypSPBzL"
      },
      "source": [
        "jpsg.reset_index(drop=False, inplace=True)"
      ],
      "execution_count": 258,
      "outputs": []
    },
    {
      "cell_type": "code",
      "metadata": {
        "colab": {
          "base_uri": "https://localhost:8080/",
          "height": 319
        },
        "id": "tqgpWpB0PB1g",
        "outputId": "271c76f1-57db-4432-819c-72ddf43c8b9b"
      },
      "source": [
        "#일본 판매량\n",
        "plt.figure(figsize=(18,4))\n",
        "plt.title(\"일본지역 장르별 게임 판매량\", size= 20)\n",
        "sns.barplot(data = jpsg,\n",
        "           x = \"Genre\",\n",
        "           y = \"JP_Sales\")"
      ],
      "execution_count": 259,
      "outputs": [
        {
          "output_type": "execute_result",
          "data": {
            "text/plain": [
              "<matplotlib.axes._subplots.AxesSubplot at 0x7fcc84467550>"
            ]
          },
          "metadata": {
            "tags": []
          },
          "execution_count": 259
        },
        {
          "output_type": "display_data",
          "data": {
            "image/png": "[encoded data removed]",
            "text/plain": [
              "<Figure size 1296x288 with 1 Axes>"
            ]
          },
          "metadata": {
            "tags": [],
            "needs_background": "light"
          }
        }
      ]
    },
    {
      "cell_type": "code",
      "metadata": {
        "colab": {
          "base_uri": "https://localhost:8080/",
          "height": 428
        },
        "id": "38vPaqEHQ5o7",
        "outputId": "7d7143a9-229e-4b36-8c85-48d721b8213b"
      },
      "source": [
        "# 기타국가 판매량\n",
        "otdf\n",
        "# 기타국가 장르별 판매량\n",
        "otgroup = otdf.groupby(otdf[\"Genre\"])\n",
        "# 기타국가 장르별 판매량 총합\n",
        "ots = otgroup.sum()\n",
        "# 기타국가 장르별 판매량 총합 내림차순 정렬\n",
        "ots.sort_values(by = ['Other_Sales'], ascending=False)"
      ],
      "execution_count": 260,
      "outputs": [
        {
          "output_type": "execute_result",
          "data": {
            "text/html": [
              "<div>\n",
              "<style scoped>\n",
              "    .dataframe tbody tr th:only-of-type {\n",
              "        vertical-align: middle;\n",
              "    }\n",
              "\n",
              "    .dataframe tbody tr th {\n",
              "        vertical-align: top;\n",
              "    }\n",
              "\n",
              "    .dataframe thead th {\n",
              "        text-align: right;\n",
              "    }\n",
              "</style>\n",
              "<table border=\"1\" class=\"dataframe\">\n",
              "  <thead>\n",
              "    <tr style=\"text-align: right;\">\n",
              "      <th></th>\n",
              "      <th>Other_Sales</th>\n",
              "    </tr>\n",
              "    <tr>\n",
              "      <th>Genre</th>\n",
              "      <th></th>\n",
              "    </tr>\n",
              "  </thead>\n",
              "  <tbody>\n",
              "    <tr>\n",
              "      <th>Action</th>\n",
              "      <td>183.99</td>\n",
              "    </tr>\n",
              "    <tr>\n",
              "      <th>Sports</th>\n",
              "      <td>132.35</td>\n",
              "    </tr>\n",
              "    <tr>\n",
              "      <th>Shooter</th>\n",
              "      <td>101.86</td>\n",
              "    </tr>\n",
              "    <tr>\n",
              "      <th>Racing</th>\n",
              "      <td>76.39</td>\n",
              "    </tr>\n",
              "    <tr>\n",
              "      <th>Misc</th>\n",
              "      <td>72.64</td>\n",
              "    </tr>\n",
              "    <tr>\n",
              "      <th>Role-Playing</th>\n",
              "      <td>56.73</td>\n",
              "    </tr>\n",
              "    <tr>\n",
              "      <th>Platform</th>\n",
              "      <td>50.79</td>\n",
              "    </tr>\n",
              "    <tr>\n",
              "      <th>Fighting</th>\n",
              "      <td>36.15</td>\n",
              "    </tr>\n",
              "    <tr>\n",
              "      <th>Simulation</th>\n",
              "      <td>31.32</td>\n",
              "    </tr>\n",
              "    <tr>\n",
              "      <th>Adventure</th>\n",
              "      <td>16.70</td>\n",
              "    </tr>\n",
              "    <tr>\n",
              "      <th>Puzzle</th>\n",
              "      <td>12.44</td>\n",
              "    </tr>\n",
              "    <tr>\n",
              "      <th>Strategy</th>\n",
              "      <td>11.23</td>\n",
              "    </tr>\n",
              "  </tbody>\n",
              "</table>\n",
              "</div>"
            ],
            "text/plain": [
              "              Other_Sales\n",
              "Genre                    \n",
              "Action             183.99\n",
              "Sports             132.35\n",
              "Shooter            101.86\n",
              "Racing              76.39\n",
              "Misc                72.64\n",
              "Role-Playing        56.73\n",
              "Platform            50.79\n",
              "Fighting            36.15\n",
              "Simulation          31.32\n",
              "Adventure           16.70\n",
              "Puzzle              12.44\n",
              "Strategy            11.23"
            ]
          },
          "metadata": {
            "tags": []
          },
          "execution_count": 260
        }
      ]
    },
    {
      "cell_type": "code",
      "metadata": {
        "colab": {
          "base_uri": "https://localhost:8080/",
          "height": 399
        },
        "id": "cJ1vVRcjQ5rO",
        "outputId": "fa620884-42fb-4695-9ff5-f4b69816bc99"
      },
      "source": [
        "#그래프를 그리기 위해 데이터 프레임 생성\n",
        "#otsg = otsg(raphic)\n",
        "otsg = ots.sort_values(by = ['Other_Sales'], ascending=False)\n",
        "otsg.reset_index(drop=False, inplace=True)\n",
        "otsg"
      ],
      "execution_count": 261,
      "outputs": [
        {
          "output_type": "execute_result",
          "data": {
            "text/html": [
              "<div>\n",
              "<style scoped>\n",
              "    .dataframe tbody tr th:only-of-type {\n",
              "        vertical-align: middle;\n",
              "    }\n",
              "\n",
              "    .dataframe tbody tr th {\n",
              "        vertical-align: top;\n",
              "    }\n",
              "\n",
              "    .dataframe thead th {\n",
              "        text-align: right;\n",
              "    }\n",
              "</style>\n",
              "<table border=\"1\" class=\"dataframe\">\n",
              "  <thead>\n",
              "    <tr style=\"text-align: right;\">\n",
              "      <th></th>\n",
              "      <th>Genre</th>\n",
              "      <th>Other_Sales</th>\n",
              "    </tr>\n",
              "  </thead>\n",
              "  <tbody>\n",
              "    <tr>\n",
              "      <th>0</th>\n",
              "      <td>Action</td>\n",
              "      <td>183.99</td>\n",
              "    </tr>\n",
              "    <tr>\n",
              "      <th>1</th>\n",
              "      <td>Sports</td>\n",
              "      <td>132.35</td>\n",
              "    </tr>\n",
              "    <tr>\n",
              "      <th>2</th>\n",
              "      <td>Shooter</td>\n",
              "      <td>101.86</td>\n",
              "    </tr>\n",
              "    <tr>\n",
              "      <th>3</th>\n",
              "      <td>Racing</td>\n",
              "      <td>76.39</td>\n",
              "    </tr>\n",
              "    <tr>\n",
              "      <th>4</th>\n",
              "      <td>Misc</td>\n",
              "      <td>72.64</td>\n",
              "    </tr>\n",
              "    <tr>\n",
              "      <th>5</th>\n",
              "      <td>Role-Playing</td>\n",
              "      <td>56.73</td>\n",
              "    </tr>\n",
              "    <tr>\n",
              "      <th>6</th>\n",
              "      <td>Platform</td>\n",
              "      <td>50.79</td>\n",
              "    </tr>\n",
              "    <tr>\n",
              "      <th>7</th>\n",
              "      <td>Fighting</td>\n",
              "      <td>36.15</td>\n",
              "    </tr>\n",
              "    <tr>\n",
              "      <th>8</th>\n",
              "      <td>Simulation</td>\n",
              "      <td>31.32</td>\n",
              "    </tr>\n",
              "    <tr>\n",
              "      <th>9</th>\n",
              "      <td>Adventure</td>\n",
              "      <td>16.70</td>\n",
              "    </tr>\n",
              "    <tr>\n",
              "      <th>10</th>\n",
              "      <td>Puzzle</td>\n",
              "      <td>12.44</td>\n",
              "    </tr>\n",
              "    <tr>\n",
              "      <th>11</th>\n",
              "      <td>Strategy</td>\n",
              "      <td>11.23</td>\n",
              "    </tr>\n",
              "  </tbody>\n",
              "</table>\n",
              "</div>"
            ],
            "text/plain": [
              "           Genre  Other_Sales\n",
              "0         Action       183.99\n",
              "1         Sports       132.35\n",
              "2        Shooter       101.86\n",
              "3         Racing        76.39\n",
              "4           Misc        72.64\n",
              "5   Role-Playing        56.73\n",
              "6       Platform        50.79\n",
              "7       Fighting        36.15\n",
              "8     Simulation        31.32\n",
              "9      Adventure        16.70\n",
              "10        Puzzle        12.44\n",
              "11      Strategy        11.23"
            ]
          },
          "metadata": {
            "tags": []
          },
          "execution_count": 261
        }
      ]
    },
    {
      "cell_type": "code",
      "metadata": {
        "colab": {
          "base_uri": "https://localhost:8080/",
          "height": 319
        },
        "id": "9wXK7SXTQ5tt",
        "outputId": "764b813c-350d-4145-a5ee-a72f3ae8d3b6"
      },
      "source": [
        "#기타 판매량\n",
        "plt.figure(figsize=(18,4))\n",
        "plt.title(\"기타지역 장르별 게임 판매량\", size= 20)\n",
        "sns.barplot(data = otsg,\n",
        "           x = \"Genre\",\n",
        "           y = \"Other_Sales\")"
      ],
      "execution_count": 262,
      "outputs": [
        {
          "output_type": "execute_result",
          "data": {
            "text/plain": [
              "<matplotlib.axes._subplots.AxesSubplot at 0x7fcc843a5890>"
            ]
          },
          "metadata": {
            "tags": []
          },
          "execution_count": 262
        },
        {
          "output_type": "display_data",
          "data": {
            "image/png": "[encoded data removed]",
            "text/plain": [
              "<Figure size 1296x288 with 1 Axes>"
            ]
          },
          "metadata": {
            "tags": [],
            "needs_background": "light"
          }
        }
      ]
    },
    {
      "cell_type": "markdown",
      "metadata": {
        "id": "WG7E1_e-RK32"
      },
      "source": [
        "# 분석 결과\n",
        "\n",
        "1. 지역에 따라서 선호하는 게임 장르가 다를까?"
      ]
    },
    {
      "cell_type": "markdown",
      "metadata": {
        "id": "YdTyg8JARN30"
      },
      "source": [
        "# 결론 : 지역에 따라서 선호하는 게임 장르가 다른 것으로 나타났다.\n",
        "\n",
        "북미, 유럽, 기타지역은 공통적으로 Action, Sports, Shooter 장르가 1, 2, 3위를 기록했다. 그리고 Misc, Racing 장르는 공통적으로 6위 안에 위치했다. 이에 더해 북미와 유럽지역에서는 Platform장르가 6위 이내에 위치했지만, 기타국가 판매량에서는 Platform 장르대신 Role-Playing 장르가 6위를 기록했다.\n",
        "\n",
        "일본 지역은 Role-Playing 장르가 2위인 Action 장르의 2배가 넘는 매출을 기록하며 Role-Playing, Action, Sports, Platform, Misc, Fighting 장르 순서로 매출을 기록했다.\n",
        "\n",
        "이에따라 일본 지역에서는 Role-Playing장르를 가장 선호하고, 북미, 유럽, 기타 지역에서는 Action 장르를 가장 선호한다는 정보를 얻었다."
      ]
    },
    {
      "cell_type": "markdown",
      "metadata": {
        "id": "LTJEWKMkRSNJ"
      },
      "source": [
        "# 2. 연도별 게임의 트렌드가 있을까?"
      ]
    },
    {
      "cell_type": "code",
      "metadata": {
        "colab": {
          "base_uri": "https://localhost:8080/"
        },
        "id": "NLa75o-WRNW3",
        "outputId": "93218dfa-b7a6-479c-a9ef-981fffb6e103"
      },
      "source": [
        "#가장 오래된 출시년도와 가장 최근 출시년도 검색\n",
        "df['Year'].min(), df['Year'].max()"
      ],
      "execution_count": 263,
      "outputs": [
        {
          "output_type": "execute_result",
          "data": {
            "text/plain": [
              "(1980.0, 2020.0)"
            ]
          },
          "metadata": {
            "tags": []
          },
          "execution_count": 263
        }
      ]
    },
    {
      "cell_type": "code",
      "metadata": {
        "colab": {
          "base_uri": "https://localhost:8080/"
        },
        "id": "K2WRNnDBQ5yO",
        "outputId": "6d55b835-7eb5-471f-e092-16c4db6db984"
      },
      "source": [
        "#카운트 결과 2020년 출시된 게임은 1가지 뿐이기 때문에 결과에서 제외함.\n",
        "df['Year'].value_counts()"
      ],
      "execution_count": 264,
      "outputs": [
        {
          "output_type": "execute_result",
          "data": {
            "text/plain": [
              "2009.0    1418\n",
              "2008.0    1413\n",
              "2010.0    1245\n",
              "2007.0    1191\n",
              "2011.0    1123\n",
              "2006.0     997\n",
              "2005.0     929\n",
              "2002.0     823\n",
              "2003.0     767\n",
              "2004.0     736\n",
              "2012.0     648\n",
              "2015.0     606\n",
              "2014.0     578\n",
              "2013.0     543\n",
              "2001.0     478\n",
              "1998.0     374\n",
              "2000.0     345\n",
              "2016.0     337\n",
              "1999.0     336\n",
              "1997.0     287\n",
              "1996.0     259\n",
              "1995.0     215\n",
              "1994.0     120\n",
              "1993.0      60\n",
              "1981.0      46\n",
              "1992.0      43\n",
              "1991.0      41\n",
              "1982.0      36\n",
              "1986.0      20\n",
              "1983.0      17\n",
              "1989.0      17\n",
              "1990.0      16\n",
              "1987.0      16\n",
              "1988.0      15\n",
              "1985.0      14\n",
              "1984.0      14\n",
              "1980.0       8\n",
              "2017.0       3\n",
              "2020.0       1\n",
              "Name: Year, dtype: int64"
            ]
          },
          "metadata": {
            "tags": []
          },
          "execution_count": 264
        }
      ]
    },
    {
      "cell_type": "code",
      "metadata": {
        "id": "d6azNdUbQ51G"
      },
      "source": [
        "#연도별 트렌드 분석을 위한 데이터프레임 만들기\n",
        "# dft = df trend\n",
        "dft = df[['Platform', 'Year', 'Genre', 'Publisher', 'NA_Sales', 'EU_Sales',\n",
        "          'JP_Sales', 'Other_Sales']]"
      ],
      "execution_count": 265,
      "outputs": []
    },
    {
      "cell_type": "code",
      "metadata": {
        "id": "fUXmeSpMQ53x"
      },
      "source": [
        "dft[\"Total_Sales\"] = df['NA_Sales']+df['EU_Sales']+df['JP_Sales']+df['Other_Sales']"
      ],
      "execution_count": 266,
      "outputs": []
    },
    {
      "cell_type": "code",
      "metadata": {
        "colab": {
          "base_uri": "https://localhost:8080/",
          "height": 399
        },
        "id": "-vi6ZDF5Q56s",
        "outputId": "c19ee47f-35f4-4df9-a55f-1c0259b05ba8"
      },
      "source": [
        "dft = dft.drop(['NA_Sales', 'EU_Sales','JP_Sales', 'Other_Sales'], axis = 1)\n",
        "dft"
      ],
      "execution_count": 267,
      "outputs": [
        {
          "output_type": "execute_result",
          "data": {
            "text/html": [
              "<div>\n",
              "<style scoped>\n",
              "    .dataframe tbody tr th:only-of-type {\n",
              "        vertical-align: middle;\n",
              "    }\n",
              "\n",
              "    .dataframe tbody tr th {\n",
              "        vertical-align: top;\n",
              "    }\n",
              "\n",
              "    .dataframe thead th {\n",
              "        text-align: right;\n",
              "    }\n",
              "</style>\n",
              "<table border=\"1\" class=\"dataframe\">\n",
              "  <thead>\n",
              "    <tr style=\"text-align: right;\">\n",
              "      <th></th>\n",
              "      <th>Platform</th>\n",
              "      <th>Year</th>\n",
              "      <th>Genre</th>\n",
              "      <th>Publisher</th>\n",
              "      <th>Total_Sales</th>\n",
              "    </tr>\n",
              "  </thead>\n",
              "  <tbody>\n",
              "    <tr>\n",
              "      <th>1</th>\n",
              "      <td>DS</td>\n",
              "      <td>2008.0</td>\n",
              "      <td>Action</td>\n",
              "      <td>Destineer</td>\n",
              "      <td>0.04</td>\n",
              "    </tr>\n",
              "    <tr>\n",
              "      <th>2</th>\n",
              "      <td>Wii</td>\n",
              "      <td>2009.0</td>\n",
              "      <td>Action</td>\n",
              "      <td>Namco Bandai Games</td>\n",
              "      <td>0.18</td>\n",
              "    </tr>\n",
              "    <tr>\n",
              "      <th>3</th>\n",
              "      <td>PSP</td>\n",
              "      <td>2010.0</td>\n",
              "      <td>Adventure</td>\n",
              "      <td>Alchemist</td>\n",
              "      <td>0.02</td>\n",
              "    </tr>\n",
              "    <tr>\n",
              "      <th>4</th>\n",
              "      <td>DS</td>\n",
              "      <td>2010.0</td>\n",
              "      <td>Misc</td>\n",
              "      <td>Zoo Games</td>\n",
              "      <td>0.04</td>\n",
              "    </tr>\n",
              "    <tr>\n",
              "      <th>5</th>\n",
              "      <td>PS3</td>\n",
              "      <td>2010.0</td>\n",
              "      <td>Platform</td>\n",
              "      <td>D3Publisher</td>\n",
              "      <td>0.25</td>\n",
              "    </tr>\n",
              "    <tr>\n",
              "      <th>...</th>\n",
              "      <td>...</td>\n",
              "      <td>...</td>\n",
              "      <td>...</td>\n",
              "      <td>...</td>\n",
              "      <td>...</td>\n",
              "    </tr>\n",
              "    <tr>\n",
              "      <th>16594</th>\n",
              "      <td>GC</td>\n",
              "      <td>2006.0</td>\n",
              "      <td>Platform</td>\n",
              "      <td>Vivendi Games</td>\n",
              "      <td>0.20</td>\n",
              "    </tr>\n",
              "    <tr>\n",
              "      <th>16595</th>\n",
              "      <td>PSP</td>\n",
              "      <td>2005.0</td>\n",
              "      <td>Action</td>\n",
              "      <td>Rising Star Games</td>\n",
              "      <td>0.01</td>\n",
              "    </tr>\n",
              "    <tr>\n",
              "      <th>16596</th>\n",
              "      <td>PS3</td>\n",
              "      <td>2015.0</td>\n",
              "      <td>Sports</td>\n",
              "      <td>Take-Two Interactive</td>\n",
              "      <td>0.79</td>\n",
              "    </tr>\n",
              "    <tr>\n",
              "      <th>16597</th>\n",
              "      <td>PSV</td>\n",
              "      <td>2013.0</td>\n",
              "      <td>Action</td>\n",
              "      <td>Tecmo Koei</td>\n",
              "      <td>0.38</td>\n",
              "    </tr>\n",
              "    <tr>\n",
              "      <th>16598</th>\n",
              "      <td>PS</td>\n",
              "      <td>1996.0</td>\n",
              "      <td>Fighting</td>\n",
              "      <td>Sony Computer Entertainment</td>\n",
              "      <td>0.17</td>\n",
              "    </tr>\n",
              "  </tbody>\n",
              "</table>\n",
              "<p>16235 rows × 5 columns</p>\n",
              "</div>"
            ],
            "text/plain": [
              "      Platform    Year      Genre                    Publisher  Total_Sales\n",
              "1           DS  2008.0     Action                    Destineer         0.04\n",
              "2          Wii  2009.0     Action           Namco Bandai Games         0.18\n",
              "3          PSP  2010.0  Adventure                    Alchemist         0.02\n",
              "4           DS  2010.0       Misc                    Zoo Games         0.04\n",
              "5          PS3  2010.0   Platform                  D3Publisher         0.25\n",
              "...        ...     ...        ...                          ...          ...\n",
              "16594       GC  2006.0   Platform                Vivendi Games         0.20\n",
              "16595      PSP  2005.0     Action            Rising Star Games         0.01\n",
              "16596      PS3  2015.0     Sports         Take-Two Interactive         0.79\n",
              "16597      PSV  2013.0     Action                   Tecmo Koei         0.38\n",
              "16598       PS  1996.0   Fighting  Sony Computer Entertainment         0.17\n",
              "\n",
              "[16235 rows x 5 columns]"
            ]
          },
          "metadata": {
            "tags": []
          },
          "execution_count": 267
        }
      ]
    },
    {
      "cell_type": "code",
      "metadata": {
        "id": "uuvn9QD0Q594"
      },
      "source": [
        "#카운트 결과 2020년 출시된 게임은 1가지 뿐이기 때문에 데이터프레임에서 제외함.\n",
        "index2020 = dft[dft[\"Year\"] == 2020].index\n",
        "dft = dft.drop(index2020)"
      ],
      "execution_count": 268,
      "outputs": []
    },
    {
      "cell_type": "code",
      "metadata": {
        "colab": {
          "base_uri": "https://localhost:8080/"
        },
        "id": "Z-fzQQv3Q6AJ",
        "outputId": "29734d39-f3fc-42f6-80cd-a18bb0d1082f"
      },
      "source": [
        "#10년 단위로 출시된 게임 카운트\n",
        "for x in range(1980, 2019, 10):\n",
        "    start = x\n",
        "    end = x+10\n",
        "    temp = df[(dft[\"Year\"] >= start) & (df[\"Year\"] < end)]\n",
        "    print(\"{}년 이후 {}년 이전 : {}\".format(start, end, temp[\"Year\"].count()))"
      ],
      "execution_count": 269,
      "outputs": [
        {
          "output_type": "stream",
          "text": [
            "1980년 이후 1990년 이전 : 203\n",
            "1990년 이후 2000년 이전 : 1751\n",
            "2000년 이후 2010년 이전 : 9097\n",
            "2010년 이후 2020년 이전 : 5083\n"
          ],
          "name": "stdout"
        }
      ]
    },
    {
      "cell_type": "code",
      "metadata": {
        "id": "7igM_Av2PB4X"
      },
      "source": [
        "#10년 단위 게임으로 데이터프레임을 쪼개기 위해 cut함수와 groupby함수 사용\n",
        "#일단 라벨링을 위해 범위 설정\n",
        "\n",
        "bins = list(range(1980, 2021, 10))\n",
        "bins_label = [str(x)+\"년 이후 \"+str(x+10)+\"년 이전\" for x in bins]"
      ],
      "execution_count": 270,
      "outputs": []
    },
    {
      "cell_type": "code",
      "metadata": {
        "id": "bnjW1-iRR9QI"
      },
      "source": [
        "dft[\"Decade\"] = pd.cut(df[\"Year\"], bins, right=False, labels=bins_label[:-1])"
      ],
      "execution_count": 271,
      "outputs": []
    },
    {
      "cell_type": "code",
      "metadata": {
        "colab": {
          "base_uri": "https://localhost:8080/",
          "height": 399
        },
        "id": "zFzDiquoR9T0",
        "outputId": "4c467d1e-8f06-439f-eed0-3cc493af6eb3"
      },
      "source": [
        "dft"
      ],
      "execution_count": 272,
      "outputs": [
        {
          "output_type": "execute_result",
          "data": {
            "text/html": [
              "<div>\n",
              "<style scoped>\n",
              "    .dataframe tbody tr th:only-of-type {\n",
              "        vertical-align: middle;\n",
              "    }\n",
              "\n",
              "    .dataframe tbody tr th {\n",
              "        vertical-align: top;\n",
              "    }\n",
              "\n",
              "    .dataframe thead th {\n",
              "        text-align: right;\n",
              "    }\n",
              "</style>\n",
              "<table border=\"1\" class=\"dataframe\">\n",
              "  <thead>\n",
              "    <tr style=\"text-align: right;\">\n",
              "      <th></th>\n",
              "      <th>Platform</th>\n",
              "      <th>Year</th>\n",
              "      <th>Genre</th>\n",
              "      <th>Publisher</th>\n",
              "      <th>Total_Sales</th>\n",
              "      <th>Decade</th>\n",
              "    </tr>\n",
              "  </thead>\n",
              "  <tbody>\n",
              "    <tr>\n",
              "      <th>1</th>\n",
              "      <td>DS</td>\n",
              "      <td>2008.0</td>\n",
              "      <td>Action</td>\n",
              "      <td>Destineer</td>\n",
              "      <td>0.04</td>\n",
              "      <td>2000년 이후 2010년 이전</td>\n",
              "    </tr>\n",
              "    <tr>\n",
              "      <th>2</th>\n",
              "      <td>Wii</td>\n",
              "      <td>2009.0</td>\n",
              "      <td>Action</td>\n",
              "      <td>Namco Bandai Games</td>\n",
              "      <td>0.18</td>\n",
              "      <td>2000년 이후 2010년 이전</td>\n",
              "    </tr>\n",
              "    <tr>\n",
              "      <th>3</th>\n",
              "      <td>PSP</td>\n",
              "      <td>2010.0</td>\n",
              "      <td>Adventure</td>\n",
              "      <td>Alchemist</td>\n",
              "      <td>0.02</td>\n",
              "      <td>2010년 이후 2020년 이전</td>\n",
              "    </tr>\n",
              "    <tr>\n",
              "      <th>4</th>\n",
              "      <td>DS</td>\n",
              "      <td>2010.0</td>\n",
              "      <td>Misc</td>\n",
              "      <td>Zoo Games</td>\n",
              "      <td>0.04</td>\n",
              "      <td>2010년 이후 2020년 이전</td>\n",
              "    </tr>\n",
              "    <tr>\n",
              "      <th>5</th>\n",
              "      <td>PS3</td>\n",
              "      <td>2010.0</td>\n",
              "      <td>Platform</td>\n",
              "      <td>D3Publisher</td>\n",
              "      <td>0.25</td>\n",
              "      <td>2010년 이후 2020년 이전</td>\n",
              "    </tr>\n",
              "    <tr>\n",
              "      <th>...</th>\n",
              "      <td>...</td>\n",
              "      <td>...</td>\n",
              "      <td>...</td>\n",
              "      <td>...</td>\n",
              "      <td>...</td>\n",
              "      <td>...</td>\n",
              "    </tr>\n",
              "    <tr>\n",
              "      <th>16594</th>\n",
              "      <td>GC</td>\n",
              "      <td>2006.0</td>\n",
              "      <td>Platform</td>\n",
              "      <td>Vivendi Games</td>\n",
              "      <td>0.20</td>\n",
              "      <td>2000년 이후 2010년 이전</td>\n",
              "    </tr>\n",
              "    <tr>\n",
              "      <th>16595</th>\n",
              "      <td>PSP</td>\n",
              "      <td>2005.0</td>\n",
              "      <td>Action</td>\n",
              "      <td>Rising Star Games</td>\n",
              "      <td>0.01</td>\n",
              "      <td>2000년 이후 2010년 이전</td>\n",
              "    </tr>\n",
              "    <tr>\n",
              "      <th>16596</th>\n",
              "      <td>PS3</td>\n",
              "      <td>2015.0</td>\n",
              "      <td>Sports</td>\n",
              "      <td>Take-Two Interactive</td>\n",
              "      <td>0.79</td>\n",
              "      <td>2010년 이후 2020년 이전</td>\n",
              "    </tr>\n",
              "    <tr>\n",
              "      <th>16597</th>\n",
              "      <td>PSV</td>\n",
              "      <td>2013.0</td>\n",
              "      <td>Action</td>\n",
              "      <td>Tecmo Koei</td>\n",
              "      <td>0.38</td>\n",
              "      <td>2010년 이후 2020년 이전</td>\n",
              "    </tr>\n",
              "    <tr>\n",
              "      <th>16598</th>\n",
              "      <td>PS</td>\n",
              "      <td>1996.0</td>\n",
              "      <td>Fighting</td>\n",
              "      <td>Sony Computer Entertainment</td>\n",
              "      <td>0.17</td>\n",
              "      <td>1990년 이후 2000년 이전</td>\n",
              "    </tr>\n",
              "  </tbody>\n",
              "</table>\n",
              "<p>16234 rows × 6 columns</p>\n",
              "</div>"
            ],
            "text/plain": [
              "      Platform    Year  ... Total_Sales             Decade\n",
              "1           DS  2008.0  ...        0.04  2000년 이후 2010년 이전\n",
              "2          Wii  2009.0  ...        0.18  2000년 이후 2010년 이전\n",
              "3          PSP  2010.0  ...        0.02  2010년 이후 2020년 이전\n",
              "4           DS  2010.0  ...        0.04  2010년 이후 2020년 이전\n",
              "5          PS3  2010.0  ...        0.25  2010년 이후 2020년 이전\n",
              "...        ...     ...  ...         ...                ...\n",
              "16594       GC  2006.0  ...        0.20  2000년 이후 2010년 이전\n",
              "16595      PSP  2005.0  ...        0.01  2000년 이후 2010년 이전\n",
              "16596      PS3  2015.0  ...        0.79  2010년 이후 2020년 이전\n",
              "16597      PSV  2013.0  ...        0.38  2010년 이후 2020년 이전\n",
              "16598       PS  1996.0  ...        0.17  1990년 이후 2000년 이전\n",
              "\n",
              "[16234 rows x 6 columns]"
            ]
          },
          "metadata": {
            "tags": []
          },
          "execution_count": 272
        }
      ]
    },
    {
      "cell_type": "code",
      "metadata": {
        "id": "wTaZIg8tR9Xb"
      },
      "source": [
        "#dft에서 결측치가 있는 행 제거'\n",
        "dft = dft.dropna(axis=0)"
      ],
      "execution_count": 273,
      "outputs": []
    },
    {
      "cell_type": "code",
      "metadata": {
        "colab": {
          "base_uri": "https://localhost:8080/"
        },
        "id": "V2rbGhbWR9bG",
        "outputId": "1c2da3a7-8465-482a-ed87-e0602ff86c1f"
      },
      "source": [
        "df0.shape, dft.shape"
      ],
      "execution_count": 274,
      "outputs": [
        {
          "output_type": "execute_result",
          "data": {
            "text/plain": [
              "((16598, 9), (16134, 6))"
            ]
          },
          "metadata": {
            "tags": []
          },
          "execution_count": 274
        }
      ]
    },
    {
      "cell_type": "code",
      "metadata": {
        "colab": {
          "base_uri": "https://localhost:8080/"
        },
        "id": "Aox-4fknR9ds",
        "outputId": "721ed97b-b03d-4f26-d0f4-3be4e5478919"
      },
      "source": [
        "#결측를 제거해도 원본 데이터의 약 2.8%이기 때문에 \n",
        "#결측치를 제거해도 분석을 진행하는데 문제가 없다고 판단함\n",
        "(16598-16134)/16598"
      ],
      "execution_count": 275,
      "outputs": [
        {
          "output_type": "execute_result",
          "data": {
            "text/plain": [
              "0.027955175322327993"
            ]
          },
          "metadata": {
            "tags": []
          },
          "execution_count": 275
        }
      ]
    },
    {
      "cell_type": "code",
      "metadata": {
        "id": "vB_Y5JhyR9gK"
      },
      "source": [
        "#10년 단위로 끊어서 데이터프레임 생성\n",
        "dft1980 = dft[dft['Decade'] == '1980년 이후 1990년 이전']\n",
        "dft1990 = dft[dft['Decade'] == '1990년 이후 2000년 이전']\n",
        "dft2000 = dft[dft['Decade'] == '2000년 이후 2010년 이전'] \n",
        "dft2010 = dft[dft['Decade'] == '2010년 이후 2020년 이전']"
      ],
      "execution_count": 276,
      "outputs": []
    },
    {
      "cell_type": "code",
      "metadata": {
        "id": "sKfe_wDTSNhJ"
      },
      "source": [
        "# 트렌드를 분석해줄 함수 생성\n",
        "def trend(a) :\n",
        "    platform = a['Platform'].value_counts().head(3)\n",
        "    genre = a['Genre'].value_counts().head(3)\n",
        "    publisher =a['Publisher'].value_counts().head(3)\n",
        "    \n",
        "    return platform, genre, publisher"
      ],
      "execution_count": 277,
      "outputs": []
    },
    {
      "cell_type": "code",
      "metadata": {
        "colab": {
          "base_uri": "https://localhost:8080/"
        },
        "id": "ek2h3Tj7SNkU",
        "outputId": "0ae77a11-a341-4d47-ca91-32133ccc7d72"
      },
      "source": [
        "trend(dft1980)"
      ],
      "execution_count": 278,
      "outputs": [
        {
          "output_type": "execute_result",
          "data": {
            "text/plain": [
              "(2600    115\n",
              " NES      74\n",
              " GB       11\n",
              " Name: Platform, dtype: int64, Action      66\n",
              " Platform    32\n",
              " Shooter     30\n",
              " Name: Genre, dtype: int64, Nintendo      47\n",
              " Atari         42\n",
              " Activision    25\n",
              " Name: Publisher, dtype: int64)"
            ]
          },
          "metadata": {
            "tags": []
          },
          "execution_count": 278
        }
      ]
    },
    {
      "cell_type": "code",
      "metadata": {
        "colab": {
          "base_uri": "https://localhost:8080/"
        },
        "id": "q15ebF8SSNnY",
        "outputId": "806946bc-e956-4eaa-ca02-64f0589f0a39"
      },
      "source": [
        "trend(dft1990)"
      ],
      "execution_count": 279,
      "outputs": [
        {
          "output_type": "execute_result",
          "data": {
            "text/plain": [
              "(PS      908\n",
              " N64     242\n",
              " SNES    236\n",
              " Name: Platform, dtype: int64, Sports      303\n",
              " Fighting    191\n",
              " Racing      179\n",
              " Name: Genre, dtype: int64, Sony Computer Entertainment     155\n",
              " Nintendo                        123\n",
              " Konami Digital Entertainment    119\n",
              " Name: Publisher, dtype: int64)"
            ]
          },
          "metadata": {
            "tags": []
          },
          "execution_count": 279
        }
      ]
    },
    {
      "cell_type": "code",
      "metadata": {
        "colab": {
          "base_uri": "https://localhost:8080/"
        },
        "id": "2RdZvrBFSNqK",
        "outputId": "2d50a2cc-14c4-42bc-b240-b686a11757b6"
      },
      "source": [
        "trend(dft2000)"
      ],
      "execution_count": 280,
      "outputs": [
        {
          "output_type": "execute_result",
          "data": {
            "text/plain": [
              "(PS2    2066\n",
              " DS     1604\n",
              " Wii     831\n",
              " Name: Platform, dtype: int64, Action    1573\n",
              " Sports    1397\n",
              " Misc       991\n",
              " Name: Genre, dtype: int64, Electronic Arts    881\n",
              " Ubisoft            582\n",
              " Activision         568\n",
              " Name: Publisher, dtype: int64)"
            ]
          },
          "metadata": {
            "tags": []
          },
          "execution_count": 280
        }
      ]
    },
    {
      "cell_type": "code",
      "metadata": {
        "colab": {
          "base_uri": "https://localhost:8080/"
        },
        "id": "uvE9r7jnSNtA",
        "outputId": "1a29e631-c9f7-4cae-f961-e5dcf02afeff"
      },
      "source": [
        "trend(dft2010)"
      ],
      "execution_count": 281,
      "outputs": [
        {
          "output_type": "execute_result",
          "data": {
            "text/plain": [
              "(PS3     878\n",
              " X360    677\n",
              " DS      505\n",
              " Name: Platform, dtype: int64, Action    1429\n",
              " Sports     566\n",
              " Misc       557\n",
              " Name: Genre, dtype: int64, Namco Bandai Games    459\n",
              " Activision            337\n",
              " Electronic Arts       336\n",
              " Name: Publisher, dtype: int64)"
            ]
          },
          "metadata": {
            "tags": []
          },
          "execution_count": 281
        }
      ]
    },
    {
      "cell_type": "markdown",
      "metadata": {
        "id": "AFkwhb29TTuP"
      },
      "source": [
        "# 연도별 게임의 트렌드가 있을까?\n",
        "\n",
        "# 분석결과 : 연도별 게임의 트렌드가 존재한다."
      ]
    },
    {
      "cell_type": "markdown",
      "metadata": {
        "id": "zv7STNZrTXLi"
      },
      "source": [
        "1980년대 :\n",
        "\n",
        "플랫폼 : 아타리 2600(115), Nes(닌텐도 엔터테인먼트 시스템, 패미컴, 74),  GB(게임보이, 11)\n",
        "\n",
        "장르 : Action(66), Platform(32), Shooter(30)\n",
        "\n",
        "발행사 : 닌텐도(47), 아타리(42), 액티비전(25)\n",
        "\n",
        "1990년대 :\n",
        "\n",
        "플랫폼 : PS(플레이스테이션, 908), N64(닌텐도64, 242), SNES(슈퍼 패미컴, 236)\n",
        "\n",
        "장르 : Sports(303), Fighting(191), Racing(179)\n",
        "\n",
        "발행사 : Sony Computer Entertainment(155), Nintendo(123), Konami Digital Entertainment(119)\n",
        "\n",
        "2000년대 :\n",
        "\n",
        "플랫폼 :  PS2(2066), DS(1604), Wii(831)\n",
        "\n",
        "장르 :  Action(1573), Sports(1397), Misc(991)\n",
        "\n",
        "발행사 :  Electronic Arts(881), Ubisoft(582), Activision(568)\n",
        "\n",
        "2010년대 : \n",
        "\n",
        "플랫폼 :  PS3(878), X360(677), DS(505)\n",
        "\n",
        "장르 :  Action(1429), Sports(566), Misc(557)\n",
        "\n",
        "발행사 :  Namco Bandai Games(459), Activision(337), Electronic Arts(336)"
      ]
    },
    {
      "cell_type": "markdown",
      "metadata": {
        "id": "sPwN0V-pTYdn"
      },
      "source": [
        "1980년대 : 일본 플랫폼이 상위를 차지하며, Platform, Shooter장르가 유일하게 판매량 3위 이내에 위치한 시기. \n",
        "\n",
        "1990년대 : 1994년 플레이 스테이션의 등장이후 최다 플랫폼과 발행사 모두 일본 기업이 차지한 일본 게임의 10년, 그리고 유일하게 Action장르가 상위 3위권에 포함되지 못한 시기다.\n",
        "\n",
        "2000년대 : 최다 플랫폼수에서 여전히 일본기업의 강세를 보였으나, 최다 게임발행사(Publisher)은 미국 기업들이 두각을 드러낸 시기\n",
        "\n",
        "2010년대 : 일본기업의 최다 플랫폼 순위와 Action, Sports, Misc라는 장르의 고착화가 이뤄졌으며, 2000년대 미국이 장악했던 게임발행사의 1위 자리를 Namco Bandai Games가 차지했다."
      ]
    },
    {
      "cell_type": "markdown",
      "metadata": {
        "id": "D-743z-JTg5x"
      },
      "source": [
        "# 3. 출고량이 높은 게임에 대한 분석 및 시각화 프로세스"
      ]
    },
    {
      "cell_type": "code",
      "metadata": {
        "id": "nwqhQMDrR9i1"
      },
      "source": [
        "#3번문제 데이터 프레임 생성\n",
        "df3 = df"
      ],
      "execution_count": 282,
      "outputs": []
    },
    {
      "cell_type": "code",
      "metadata": {
        "id": "igqyzc-QR9l3"
      },
      "source": [
        "#총 매출인 전체 매출(Total_Sales를 생성)\n",
        "df3['Total_Sales'] = df['NA_Sales']+df['EU_Sales']+df['JP_Sales']+df['Other_Sales']"
      ],
      "execution_count": 283,
      "outputs": []
    },
    {
      "cell_type": "code",
      "metadata": {
        "id": "Tz6m9uSUTkSW"
      },
      "source": [
        "# 보다 자세한 분석을 위해 2번 과제를 해결할 때 사용한 'Decade' 컬럼을 가져온다\n",
        "\n",
        "df3 = pd.concat([df3, dft['Decade']], axis = 1)"
      ],
      "execution_count": 284,
      "outputs": []
    },
    {
      "cell_type": "code",
      "metadata": {
        "colab": {
          "base_uri": "https://localhost:8080/",
          "height": 399
        },
        "id": "8aLBwS2BTkV5",
        "outputId": "77f1e1e4-14f7-4bed-9081-8e5c08bcec19"
      },
      "source": [
        "df3"
      ],
      "execution_count": 285,
      "outputs": [
        {
          "output_type": "execute_result",
          "data": {
            "text/html": [
              "<div>\n",
              "<style scoped>\n",
              "    .dataframe tbody tr th:only-of-type {\n",
              "        vertical-align: middle;\n",
              "    }\n",
              "\n",
              "    .dataframe tbody tr th {\n",
              "        vertical-align: top;\n",
              "    }\n",
              "\n",
              "    .dataframe thead th {\n",
              "        text-align: right;\n",
              "    }\n",
              "</style>\n",
              "<table border=\"1\" class=\"dataframe\">\n",
              "  <thead>\n",
              "    <tr style=\"text-align: right;\">\n",
              "      <th></th>\n",
              "      <th>Name</th>\n",
              "      <th>Platform</th>\n",
              "      <th>Year</th>\n",
              "      <th>Genre</th>\n",
              "      <th>Publisher</th>\n",
              "      <th>NA_Sales</th>\n",
              "      <th>EU_Sales</th>\n",
              "      <th>JP_Sales</th>\n",
              "      <th>Other_Sales</th>\n",
              "      <th>Total_Sales</th>\n",
              "      <th>Decade</th>\n",
              "    </tr>\n",
              "  </thead>\n",
              "  <tbody>\n",
              "    <tr>\n",
              "      <th>1</th>\n",
              "      <td>Candace Kane's Candy Factory</td>\n",
              "      <td>DS</td>\n",
              "      <td>2008.0</td>\n",
              "      <td>Action</td>\n",
              "      <td>Destineer</td>\n",
              "      <td>0.04</td>\n",
              "      <td>0.00</td>\n",
              "      <td>0.00</td>\n",
              "      <td>0.00</td>\n",
              "      <td>0.04</td>\n",
              "      <td>2000년 이후 2010년 이전</td>\n",
              "    </tr>\n",
              "    <tr>\n",
              "      <th>2</th>\n",
              "      <td>The Munchables</td>\n",
              "      <td>Wii</td>\n",
              "      <td>2009.0</td>\n",
              "      <td>Action</td>\n",
              "      <td>Namco Bandai Games</td>\n",
              "      <td>0.17</td>\n",
              "      <td>0.00</td>\n",
              "      <td>0.00</td>\n",
              "      <td>0.01</td>\n",
              "      <td>0.18</td>\n",
              "      <td>2000년 이후 2010년 이전</td>\n",
              "    </tr>\n",
              "    <tr>\n",
              "      <th>3</th>\n",
              "      <td>Otome wa Oanesama Boku ni Koi Shiteru Portable</td>\n",
              "      <td>PSP</td>\n",
              "      <td>2010.0</td>\n",
              "      <td>Adventure</td>\n",
              "      <td>Alchemist</td>\n",
              "      <td>0.00</td>\n",
              "      <td>0.00</td>\n",
              "      <td>0.02</td>\n",
              "      <td>0.00</td>\n",
              "      <td>0.02</td>\n",
              "      <td>2010년 이후 2020년 이전</td>\n",
              "    </tr>\n",
              "    <tr>\n",
              "      <th>4</th>\n",
              "      <td>Deal or No Deal: Special Edition</td>\n",
              "      <td>DS</td>\n",
              "      <td>2010.0</td>\n",
              "      <td>Misc</td>\n",
              "      <td>Zoo Games</td>\n",
              "      <td>0.04</td>\n",
              "      <td>0.00</td>\n",
              "      <td>0.00</td>\n",
              "      <td>0.00</td>\n",
              "      <td>0.04</td>\n",
              "      <td>2010년 이후 2020년 이전</td>\n",
              "    </tr>\n",
              "    <tr>\n",
              "      <th>5</th>\n",
              "      <td>Ben 10 Ultimate Alien: Cosmic Destruction</td>\n",
              "      <td>PS3</td>\n",
              "      <td>2010.0</td>\n",
              "      <td>Platform</td>\n",
              "      <td>D3Publisher</td>\n",
              "      <td>0.12</td>\n",
              "      <td>0.09</td>\n",
              "      <td>0.00</td>\n",
              "      <td>0.04</td>\n",
              "      <td>0.25</td>\n",
              "      <td>2010년 이후 2020년 이전</td>\n",
              "    </tr>\n",
              "    <tr>\n",
              "      <th>...</th>\n",
              "      <td>...</td>\n",
              "      <td>...</td>\n",
              "      <td>...</td>\n",
              "      <td>...</td>\n",
              "      <td>...</td>\n",
              "      <td>...</td>\n",
              "      <td>...</td>\n",
              "      <td>...</td>\n",
              "      <td>...</td>\n",
              "      <td>...</td>\n",
              "      <td>...</td>\n",
              "    </tr>\n",
              "    <tr>\n",
              "      <th>16594</th>\n",
              "      <td>Ice Age 2: The Meltdown</td>\n",
              "      <td>GC</td>\n",
              "      <td>2006.0</td>\n",
              "      <td>Platform</td>\n",
              "      <td>Vivendi Games</td>\n",
              "      <td>0.15</td>\n",
              "      <td>0.04</td>\n",
              "      <td>0.00</td>\n",
              "      <td>0.01</td>\n",
              "      <td>0.20</td>\n",
              "      <td>2000년 이후 2010년 이전</td>\n",
              "    </tr>\n",
              "    <tr>\n",
              "      <th>16595</th>\n",
              "      <td>Rainbow Islands: Revolution</td>\n",
              "      <td>PSP</td>\n",
              "      <td>2005.0</td>\n",
              "      <td>Action</td>\n",
              "      <td>Rising Star Games</td>\n",
              "      <td>0.01</td>\n",
              "      <td>0.00</td>\n",
              "      <td>0.00</td>\n",
              "      <td>0.00</td>\n",
              "      <td>0.01</td>\n",
              "      <td>2000년 이후 2010년 이전</td>\n",
              "    </tr>\n",
              "    <tr>\n",
              "      <th>16596</th>\n",
              "      <td>NBA 2K16</td>\n",
              "      <td>PS3</td>\n",
              "      <td>2015.0</td>\n",
              "      <td>Sports</td>\n",
              "      <td>Take-Two Interactive</td>\n",
              "      <td>0.44</td>\n",
              "      <td>0.19</td>\n",
              "      <td>0.03</td>\n",
              "      <td>0.13</td>\n",
              "      <td>0.79</td>\n",
              "      <td>2010년 이후 2020년 이전</td>\n",
              "    </tr>\n",
              "    <tr>\n",
              "      <th>16597</th>\n",
              "      <td>Toukiden: The Age of Demons</td>\n",
              "      <td>PSV</td>\n",
              "      <td>2013.0</td>\n",
              "      <td>Action</td>\n",
              "      <td>Tecmo Koei</td>\n",
              "      <td>0.05</td>\n",
              "      <td>0.05</td>\n",
              "      <td>0.25</td>\n",
              "      <td>0.03</td>\n",
              "      <td>0.38</td>\n",
              "      <td>2010년 이후 2020년 이전</td>\n",
              "    </tr>\n",
              "    <tr>\n",
              "      <th>16598</th>\n",
              "      <td>The King of Fighters '95</td>\n",
              "      <td>PS</td>\n",
              "      <td>1996.0</td>\n",
              "      <td>Fighting</td>\n",
              "      <td>Sony Computer Entertainment</td>\n",
              "      <td>0.00</td>\n",
              "      <td>0.00</td>\n",
              "      <td>0.16</td>\n",
              "      <td>0.01</td>\n",
              "      <td>0.17</td>\n",
              "      <td>1990년 이후 2000년 이전</td>\n",
              "    </tr>\n",
              "  </tbody>\n",
              "</table>\n",
              "<p>16235 rows × 11 columns</p>\n",
              "</div>"
            ],
            "text/plain": [
              "                                                 Name  ...             Decade\n",
              "1                        Candace Kane's Candy Factory  ...  2000년 이후 2010년 이전\n",
              "2                                      The Munchables  ...  2000년 이후 2010년 이전\n",
              "3      Otome wa Oanesama Boku ni Koi Shiteru Portable  ...  2010년 이후 2020년 이전\n",
              "4                    Deal or No Deal: Special Edition  ...  2010년 이후 2020년 이전\n",
              "5           Ben 10 Ultimate Alien: Cosmic Destruction  ...  2010년 이후 2020년 이전\n",
              "...                                               ...  ...                ...\n",
              "16594                         Ice Age 2: The Meltdown  ...  2000년 이후 2010년 이전\n",
              "16595                     Rainbow Islands: Revolution  ...  2000년 이후 2010년 이전\n",
              "16596                                        NBA 2K16  ...  2010년 이후 2020년 이전\n",
              "16597                     Toukiden: The Age of Demons  ...  2010년 이후 2020년 이전\n",
              "16598                        The King of Fighters '95  ...  1990년 이후 2000년 이전\n",
              "\n",
              "[16235 rows x 11 columns]"
            ]
          },
          "metadata": {
            "tags": []
          },
          "execution_count": 285
        }
      ]
    },
    {
      "cell_type": "code",
      "metadata": {
        "id": "P0-9PFhsTkZC"
      },
      "source": [
        "df3 = df3.drop(['NA_Sales', 'EU_Sales', 'JP_Sales', 'Other_Sales'], axis =1)"
      ],
      "execution_count": 286,
      "outputs": []
    },
    {
      "cell_type": "code",
      "metadata": {
        "colab": {
          "base_uri": "https://localhost:8080/",
          "height": 194
        },
        "id": "JuHdKBSiTrnU",
        "outputId": "872a4cf5-36f2-4cab-c586-57322d0e5879"
      },
      "source": [
        "df3.head()"
      ],
      "execution_count": 287,
      "outputs": [
        {
          "output_type": "execute_result",
          "data": {
            "text/html": [
              "<div>\n",
              "<style scoped>\n",
              "    .dataframe tbody tr th:only-of-type {\n",
              "        vertical-align: middle;\n",
              "    }\n",
              "\n",
              "    .dataframe tbody tr th {\n",
              "        vertical-align: top;\n",
              "    }\n",
              "\n",
              "    .dataframe thead th {\n",
              "        text-align: right;\n",
              "    }\n",
              "</style>\n",
              "<table border=\"1\" class=\"dataframe\">\n",
              "  <thead>\n",
              "    <tr style=\"text-align: right;\">\n",
              "      <th></th>\n",
              "      <th>Name</th>\n",
              "      <th>Platform</th>\n",
              "      <th>Year</th>\n",
              "      <th>Genre</th>\n",
              "      <th>Publisher</th>\n",
              "      <th>Total_Sales</th>\n",
              "      <th>Decade</th>\n",
              "    </tr>\n",
              "  </thead>\n",
              "  <tbody>\n",
              "    <tr>\n",
              "      <th>1</th>\n",
              "      <td>Candace Kane's Candy Factory</td>\n",
              "      <td>DS</td>\n",
              "      <td>2008.0</td>\n",
              "      <td>Action</td>\n",
              "      <td>Destineer</td>\n",
              "      <td>0.04</td>\n",
              "      <td>2000년 이후 2010년 이전</td>\n",
              "    </tr>\n",
              "    <tr>\n",
              "      <th>2</th>\n",
              "      <td>The Munchables</td>\n",
              "      <td>Wii</td>\n",
              "      <td>2009.0</td>\n",
              "      <td>Action</td>\n",
              "      <td>Namco Bandai Games</td>\n",
              "      <td>0.18</td>\n",
              "      <td>2000년 이후 2010년 이전</td>\n",
              "    </tr>\n",
              "    <tr>\n",
              "      <th>3</th>\n",
              "      <td>Otome wa Oanesama Boku ni Koi Shiteru Portable</td>\n",
              "      <td>PSP</td>\n",
              "      <td>2010.0</td>\n",
              "      <td>Adventure</td>\n",
              "      <td>Alchemist</td>\n",
              "      <td>0.02</td>\n",
              "      <td>2010년 이후 2020년 이전</td>\n",
              "    </tr>\n",
              "    <tr>\n",
              "      <th>4</th>\n",
              "      <td>Deal or No Deal: Special Edition</td>\n",
              "      <td>DS</td>\n",
              "      <td>2010.0</td>\n",
              "      <td>Misc</td>\n",
              "      <td>Zoo Games</td>\n",
              "      <td>0.04</td>\n",
              "      <td>2010년 이후 2020년 이전</td>\n",
              "    </tr>\n",
              "    <tr>\n",
              "      <th>5</th>\n",
              "      <td>Ben 10 Ultimate Alien: Cosmic Destruction</td>\n",
              "      <td>PS3</td>\n",
              "      <td>2010.0</td>\n",
              "      <td>Platform</td>\n",
              "      <td>D3Publisher</td>\n",
              "      <td>0.25</td>\n",
              "      <td>2010년 이후 2020년 이전</td>\n",
              "    </tr>\n",
              "  </tbody>\n",
              "</table>\n",
              "</div>"
            ],
            "text/plain": [
              "                                             Name  ...             Decade\n",
              "1                    Candace Kane's Candy Factory  ...  2000년 이후 2010년 이전\n",
              "2                                  The Munchables  ...  2000년 이후 2010년 이전\n",
              "3  Otome wa Oanesama Boku ni Koi Shiteru Portable  ...  2010년 이후 2020년 이전\n",
              "4                Deal or No Deal: Special Edition  ...  2010년 이후 2020년 이전\n",
              "5       Ben 10 Ultimate Alien: Cosmic Destruction  ...  2010년 이후 2020년 이전\n",
              "\n",
              "[5 rows x 7 columns]"
            ]
          },
          "metadata": {
            "tags": []
          },
          "execution_count": 287
        }
      ]
    },
    {
      "cell_type": "code",
      "metadata": {
        "colab": {
          "base_uri": "https://localhost:8080/"
        },
        "id": "NZ5hu1zaTkcQ",
        "outputId": "31f2543f-b750-4bcd-a764-b8710b79fe75"
      },
      "source": [
        "# '출고량이 높은 게임'을 '매출 상위 20% 게임'이라고 정의하고 분석 진행\n",
        "# 상위 20%추출을 위해 데이터프레임의 20% 개수 계산\n",
        "16235*0.2"
      ],
      "execution_count": 288,
      "outputs": [
        {
          "output_type": "execute_result",
          "data": {
            "text/plain": [
              "3247.0"
            ]
          },
          "metadata": {
            "tags": []
          },
          "execution_count": 288
        }
      ]
    },
    {
      "cell_type": "code",
      "metadata": {
        "colab": {
          "base_uri": "https://localhost:8080/",
          "height": 399
        },
        "id": "UL4R1yUTTkfV",
        "outputId": "0556486b-a54f-429b-c4f7-383bfa687f33"
      },
      "source": [
        "#상위 20%(출고량이 높은 게임) 추출\n",
        "df3top20 = df3.sort_values(by='Total_Sales' ,ascending=False).head(3247)\n",
        "df3top20"
      ],
      "execution_count": 289,
      "outputs": [
        {
          "output_type": "execute_result",
          "data": {
            "text/html": [
              "<div>\n",
              "<style scoped>\n",
              "    .dataframe tbody tr th:only-of-type {\n",
              "        vertical-align: middle;\n",
              "    }\n",
              "\n",
              "    .dataframe tbody tr th {\n",
              "        vertical-align: top;\n",
              "    }\n",
              "\n",
              "    .dataframe thead th {\n",
              "        text-align: right;\n",
              "    }\n",
              "</style>\n",
              "<table border=\"1\" class=\"dataframe\">\n",
              "  <thead>\n",
              "    <tr style=\"text-align: right;\">\n",
              "      <th></th>\n",
              "      <th>Name</th>\n",
              "      <th>Platform</th>\n",
              "      <th>Year</th>\n",
              "      <th>Genre</th>\n",
              "      <th>Publisher</th>\n",
              "      <th>Total_Sales</th>\n",
              "      <th>Decade</th>\n",
              "    </tr>\n",
              "  </thead>\n",
              "  <tbody>\n",
              "    <tr>\n",
              "      <th>2909</th>\n",
              "      <td>Wii Sports</td>\n",
              "      <td>Wii</td>\n",
              "      <td>2006.0</td>\n",
              "      <td>Sports</td>\n",
              "      <td>Nintendo</td>\n",
              "      <td>82.74</td>\n",
              "      <td>2000년 이후 2010년 이전</td>\n",
              "    </tr>\n",
              "    <tr>\n",
              "      <th>4200</th>\n",
              "      <td>Super Mario Bros.</td>\n",
              "      <td>NES</td>\n",
              "      <td>1985.0</td>\n",
              "      <td>Platform</td>\n",
              "      <td>Nintendo</td>\n",
              "      <td>40.24</td>\n",
              "      <td>1980년 이후 1990년 이전</td>\n",
              "    </tr>\n",
              "    <tr>\n",
              "      <th>12580</th>\n",
              "      <td>Mario Kart Wii</td>\n",
              "      <td>Wii</td>\n",
              "      <td>2008.0</td>\n",
              "      <td>Racing</td>\n",
              "      <td>Nintendo</td>\n",
              "      <td>35.83</td>\n",
              "      <td>2000년 이후 2010년 이전</td>\n",
              "    </tr>\n",
              "    <tr>\n",
              "      <th>3353</th>\n",
              "      <td>Wii Sports Resort</td>\n",
              "      <td>Wii</td>\n",
              "      <td>2009.0</td>\n",
              "      <td>Sports</td>\n",
              "      <td>Nintendo</td>\n",
              "      <td>33.00</td>\n",
              "      <td>2000년 이후 2010년 이전</td>\n",
              "    </tr>\n",
              "    <tr>\n",
              "      <th>7830</th>\n",
              "      <td>Pokemon Red/Pokemon Blue</td>\n",
              "      <td>GB</td>\n",
              "      <td>1996.0</td>\n",
              "      <td>Role-Playing</td>\n",
              "      <td>Nintendo</td>\n",
              "      <td>31.38</td>\n",
              "      <td>1990년 이후 2000년 이전</td>\n",
              "    </tr>\n",
              "    <tr>\n",
              "      <th>...</th>\n",
              "      <td>...</td>\n",
              "      <td>...</td>\n",
              "      <td>...</td>\n",
              "      <td>...</td>\n",
              "      <td>...</td>\n",
              "      <td>...</td>\n",
              "      <td>...</td>\n",
              "    </tr>\n",
              "    <tr>\n",
              "      <th>5097</th>\n",
              "      <td>Madden NFL 2003</td>\n",
              "      <td>GBA</td>\n",
              "      <td>2002.0</td>\n",
              "      <td>Sports</td>\n",
              "      <td>Electronic Arts</td>\n",
              "      <td>0.61</td>\n",
              "      <td>2000년 이후 2010년 이전</td>\n",
              "    </tr>\n",
              "    <tr>\n",
              "      <th>2902</th>\n",
              "      <td>Harry Potter and the Goblet of Fire</td>\n",
              "      <td>GBA</td>\n",
              "      <td>2005.0</td>\n",
              "      <td>Action</td>\n",
              "      <td>Electronic Arts</td>\n",
              "      <td>0.61</td>\n",
              "      <td>2000년 이후 2010년 이전</td>\n",
              "    </tr>\n",
              "    <tr>\n",
              "      <th>11672</th>\n",
              "      <td>Wet</td>\n",
              "      <td>PS3</td>\n",
              "      <td>2009.0</td>\n",
              "      <td>Shooter</td>\n",
              "      <td>Bethesda Softworks</td>\n",
              "      <td>0.61</td>\n",
              "      <td>2000년 이후 2010년 이전</td>\n",
              "    </tr>\n",
              "    <tr>\n",
              "      <th>8875</th>\n",
              "      <td>Tony Hawk: RIDE</td>\n",
              "      <td>PS3</td>\n",
              "      <td>2009.0</td>\n",
              "      <td>Sports</td>\n",
              "      <td>Activision</td>\n",
              "      <td>0.61</td>\n",
              "      <td>2000년 이후 2010년 이전</td>\n",
              "    </tr>\n",
              "    <tr>\n",
              "      <th>7466</th>\n",
              "      <td>Texas Hold 'Em Poker</td>\n",
              "      <td>GBA</td>\n",
              "      <td>2004.0</td>\n",
              "      <td>Misc</td>\n",
              "      <td>Majesco Entertainment</td>\n",
              "      <td>0.61</td>\n",
              "      <td>2000년 이후 2010년 이전</td>\n",
              "    </tr>\n",
              "  </tbody>\n",
              "</table>\n",
              "<p>3247 rows × 7 columns</p>\n",
              "</div>"
            ],
            "text/plain": [
              "                                      Name  ...             Decade\n",
              "2909                            Wii Sports  ...  2000년 이후 2010년 이전\n",
              "4200                     Super Mario Bros.  ...  1980년 이후 1990년 이전\n",
              "12580                       Mario Kart Wii  ...  2000년 이후 2010년 이전\n",
              "3353                     Wii Sports Resort  ...  2000년 이후 2010년 이전\n",
              "7830              Pokemon Red/Pokemon Blue  ...  1990년 이후 2000년 이전\n",
              "...                                    ...  ...                ...\n",
              "5097                       Madden NFL 2003  ...  2000년 이후 2010년 이전\n",
              "2902   Harry Potter and the Goblet of Fire  ...  2000년 이후 2010년 이전\n",
              "11672                                  Wet  ...  2000년 이후 2010년 이전\n",
              "8875                       Tony Hawk: RIDE  ...  2000년 이후 2010년 이전\n",
              "7466                  Texas Hold 'Em Poker  ...  2000년 이후 2010년 이전\n",
              "\n",
              "[3247 rows x 7 columns]"
            ]
          },
          "metadata": {
            "tags": []
          },
          "execution_count": 289
        }
      ]
    },
    {
      "cell_type": "code",
      "metadata": {
        "id": "hLEJngVBTkih"
      },
      "source": [
        "# 판매량과 연관이 없을 것 같은 'Name'컬럼을 지우고 전처리 끝\n",
        "df3top20 = df3top20.drop('Name', axis = 1)"
      ],
      "execution_count": 290,
      "outputs": []
    },
    {
      "cell_type": "code",
      "metadata": {
        "colab": {
          "base_uri": "https://localhost:8080/",
          "height": 399
        },
        "id": "w-TvDs0cTkmJ",
        "outputId": "5763fb74-121a-4fe0-98f0-d6adddb4f4f1"
      },
      "source": [
        "df3top20"
      ],
      "execution_count": 291,
      "outputs": [
        {
          "output_type": "execute_result",
          "data": {
            "text/html": [
              "<div>\n",
              "<style scoped>\n",
              "    .dataframe tbody tr th:only-of-type {\n",
              "        vertical-align: middle;\n",
              "    }\n",
              "\n",
              "    .dataframe tbody tr th {\n",
              "        vertical-align: top;\n",
              "    }\n",
              "\n",
              "    .dataframe thead th {\n",
              "        text-align: right;\n",
              "    }\n",
              "</style>\n",
              "<table border=\"1\" class=\"dataframe\">\n",
              "  <thead>\n",
              "    <tr style=\"text-align: right;\">\n",
              "      <th></th>\n",
              "      <th>Platform</th>\n",
              "      <th>Year</th>\n",
              "      <th>Genre</th>\n",
              "      <th>Publisher</th>\n",
              "      <th>Total_Sales</th>\n",
              "      <th>Decade</th>\n",
              "    </tr>\n",
              "  </thead>\n",
              "  <tbody>\n",
              "    <tr>\n",
              "      <th>2909</th>\n",
              "      <td>Wii</td>\n",
              "      <td>2006.0</td>\n",
              "      <td>Sports</td>\n",
              "      <td>Nintendo</td>\n",
              "      <td>82.74</td>\n",
              "      <td>2000년 이후 2010년 이전</td>\n",
              "    </tr>\n",
              "    <tr>\n",
              "      <th>4200</th>\n",
              "      <td>NES</td>\n",
              "      <td>1985.0</td>\n",
              "      <td>Platform</td>\n",
              "      <td>Nintendo</td>\n",
              "      <td>40.24</td>\n",
              "      <td>1980년 이후 1990년 이전</td>\n",
              "    </tr>\n",
              "    <tr>\n",
              "      <th>12580</th>\n",
              "      <td>Wii</td>\n",
              "      <td>2008.0</td>\n",
              "      <td>Racing</td>\n",
              "      <td>Nintendo</td>\n",
              "      <td>35.83</td>\n",
              "      <td>2000년 이후 2010년 이전</td>\n",
              "    </tr>\n",
              "    <tr>\n",
              "      <th>3353</th>\n",
              "      <td>Wii</td>\n",
              "      <td>2009.0</td>\n",
              "      <td>Sports</td>\n",
              "      <td>Nintendo</td>\n",
              "      <td>33.00</td>\n",
              "      <td>2000년 이후 2010년 이전</td>\n",
              "    </tr>\n",
              "    <tr>\n",
              "      <th>7830</th>\n",
              "      <td>GB</td>\n",
              "      <td>1996.0</td>\n",
              "      <td>Role-Playing</td>\n",
              "      <td>Nintendo</td>\n",
              "      <td>31.38</td>\n",
              "      <td>1990년 이후 2000년 이전</td>\n",
              "    </tr>\n",
              "    <tr>\n",
              "      <th>...</th>\n",
              "      <td>...</td>\n",
              "      <td>...</td>\n",
              "      <td>...</td>\n",
              "      <td>...</td>\n",
              "      <td>...</td>\n",
              "      <td>...</td>\n",
              "    </tr>\n",
              "    <tr>\n",
              "      <th>5097</th>\n",
              "      <td>GBA</td>\n",
              "      <td>2002.0</td>\n",
              "      <td>Sports</td>\n",
              "      <td>Electronic Arts</td>\n",
              "      <td>0.61</td>\n",
              "      <td>2000년 이후 2010년 이전</td>\n",
              "    </tr>\n",
              "    <tr>\n",
              "      <th>2902</th>\n",
              "      <td>GBA</td>\n",
              "      <td>2005.0</td>\n",
              "      <td>Action</td>\n",
              "      <td>Electronic Arts</td>\n",
              "      <td>0.61</td>\n",
              "      <td>2000년 이후 2010년 이전</td>\n",
              "    </tr>\n",
              "    <tr>\n",
              "      <th>11672</th>\n",
              "      <td>PS3</td>\n",
              "      <td>2009.0</td>\n",
              "      <td>Shooter</td>\n",
              "      <td>Bethesda Softworks</td>\n",
              "      <td>0.61</td>\n",
              "      <td>2000년 이후 2010년 이전</td>\n",
              "    </tr>\n",
              "    <tr>\n",
              "      <th>8875</th>\n",
              "      <td>PS3</td>\n",
              "      <td>2009.0</td>\n",
              "      <td>Sports</td>\n",
              "      <td>Activision</td>\n",
              "      <td>0.61</td>\n",
              "      <td>2000년 이후 2010년 이전</td>\n",
              "    </tr>\n",
              "    <tr>\n",
              "      <th>7466</th>\n",
              "      <td>GBA</td>\n",
              "      <td>2004.0</td>\n",
              "      <td>Misc</td>\n",
              "      <td>Majesco Entertainment</td>\n",
              "      <td>0.61</td>\n",
              "      <td>2000년 이후 2010년 이전</td>\n",
              "    </tr>\n",
              "  </tbody>\n",
              "</table>\n",
              "<p>3247 rows × 6 columns</p>\n",
              "</div>"
            ],
            "text/plain": [
              "      Platform    Year  ... Total_Sales             Decade\n",
              "2909       Wii  2006.0  ...       82.74  2000년 이후 2010년 이전\n",
              "4200       NES  1985.0  ...       40.24  1980년 이후 1990년 이전\n",
              "12580      Wii  2008.0  ...       35.83  2000년 이후 2010년 이전\n",
              "3353       Wii  2009.0  ...       33.00  2000년 이후 2010년 이전\n",
              "7830        GB  1996.0  ...       31.38  1990년 이후 2000년 이전\n",
              "...        ...     ...  ...         ...                ...\n",
              "5097       GBA  2002.0  ...        0.61  2000년 이후 2010년 이전\n",
              "2902       GBA  2005.0  ...        0.61  2000년 이후 2010년 이전\n",
              "11672      PS3  2009.0  ...        0.61  2000년 이후 2010년 이전\n",
              "8875       PS3  2009.0  ...        0.61  2000년 이후 2010년 이전\n",
              "7466       GBA  2004.0  ...        0.61  2000년 이후 2010년 이전\n",
              "\n",
              "[3247 rows x 6 columns]"
            ]
          },
          "metadata": {
            "tags": []
          },
          "execution_count": 291
        }
      ]
    },
    {
      "cell_type": "code",
      "metadata": {
        "colab": {
          "base_uri": "https://localhost:8080/",
          "height": 312
        },
        "id": "pQvllBWeTkpR",
        "outputId": "b91e6eba-5063-4730-a642-eb09e1a91218"
      },
      "source": [
        "#출고량이 높은 게임의 장르 분포\n",
        "plt.figure(figsize=(18,4))\n",
        "plt.title(\"출고량이 높은 게임의 장르 분포\")\n",
        "sns.countplot(x = 'Genre', data = df3top20,\n",
        "              order = df3top20['Genre'].value_counts().index)"
      ],
      "execution_count": 292,
      "outputs": [
        {
          "output_type": "execute_result",
          "data": {
            "text/plain": [
              "<matplotlib.axes._subplots.AxesSubplot at 0x7fcc842fd7d0>"
            ]
          },
          "metadata": {
            "tags": []
          },
          "execution_count": 292
        },
        {
          "output_type": "display_data",
          "data": {
            "image/png": "[encoded data removed]",
            "text/plain": [
              "<Figure size 1296x288 with 1 Axes>"
            ]
          },
          "metadata": {
            "tags": [],
            "needs_background": "light"
          }
        }
      ]
    },
    {
      "cell_type": "code",
      "metadata": {
        "colab": {
          "base_uri": "https://localhost:8080/",
          "height": 312
        },
        "id": "rhTC37pYTktU",
        "outputId": "7417abd8-d79e-4d67-daf1-0998302f7c20"
      },
      "source": [
        "#출고량이 높은 게임의 플랫폼 분포\n",
        "plt.figure(figsize=(18,4))\n",
        "plt.title(\"출고량이 높은 게임의 플랫폼 분포\")\n",
        "sns.countplot(x = 'Platform', data = df3top20,\n",
        "              order = df3top20['Platform'].value_counts().index)"
      ],
      "execution_count": 293,
      "outputs": [
        {
          "output_type": "execute_result",
          "data": {
            "text/plain": [
              "<matplotlib.axes._subplots.AxesSubplot at 0x7fcc84255f50>"
            ]
          },
          "metadata": {
            "tags": []
          },
          "execution_count": 293
        },
        {
          "output_type": "display_data",
          "data": {
            "image/png": "[encoded data removed]",
            "text/plain": [
              "<Figure size 1296x288 with 1 Axes>"
            ]
          },
          "metadata": {
            "tags": [],
            "needs_background": "light"
          }
        }
      ]
    },
    {
      "cell_type": "code",
      "metadata": {
        "colab": {
          "base_uri": "https://localhost:8080/",
          "height": 312
        },
        "id": "PbMD2qbdTkwm",
        "outputId": "cc3fa517-8fb7-44f7-cd1e-50819c2e0061"
      },
      "source": [
        "#출고량이 높은 상위 20위 이내 게임의 발행사 분포\n",
        "plt.figure(figsize=(18,4))\n",
        "plt.title(\"출고량이 높은 게임의 발행사 분포\")\n",
        "sns.countplot(x = 'Publisher', data = df3top20,\n",
        "              order = df3top20['Publisher'].value_counts().head(10).index)"
      ],
      "execution_count": 294,
      "outputs": [
        {
          "output_type": "execute_result",
          "data": {
            "text/plain": [
              "<matplotlib.axes._subplots.AxesSubplot at 0x7fcc8410e7d0>"
            ]
          },
          "metadata": {
            "tags": []
          },
          "execution_count": 294
        },
        {
          "output_type": "display_data",
          "data": {
            "image/png": "[encoded data removed]",
            "text/plain": [
              "<Figure size 1296x288 with 1 Axes>"
            ]
          },
          "metadata": {
            "tags": [],
            "needs_background": "light"
          }
        }
      ]
    },
    {
      "cell_type": "markdown",
      "metadata": {
        "id": "6ij_sw_lUmdV"
      },
      "source": [
        "# 4. 다음 분기에 설계해야할 게임\n",
        "\n",
        "---\n",
        "다음분기에 설계해야할 게임은 안정적인 매출이 나와야한다. 그렇기 위해서는 다음과 같은 조건을 충족해야 한다.\n",
        "\n",
        "1. 2010 - 2019년의 게임 트렌드(장르, 플랫폼)를 따라갈 것.\n",
        "2. 지역에 따라 판매량의 차이가 어느 정도인지 분석하고, 반영할 것.\n"
      ]
    },
    {
      "cell_type": "markdown",
      "metadata": {
        "id": "R5tVf6BVcL43"
      },
      "source": [
        "4-1.\n",
        "\n",
        "2번 분석에서 나온 결과를 토대로 2010년대(2010년 - 2019년)의 게임트렌드 추출\n",
        "\n",
        "플랫폼 :  PS3(878), X360(677), DS(505)\n",
        "\n",
        "장르 :  Action(1429), Sports(566), Misc(557)\n",
        "\n",
        "발행사 :  Namco Bandai Games(459), Activision(337), Electronic Arts(336)"
      ]
    },
    {
      "cell_type": "code",
      "metadata": {
        "colab": {
          "base_uri": "https://localhost:8080/",
          "height": 76
        },
        "id": "xSFkuj09crf7",
        "outputId": "13b9853c-df3a-4998-b6d6-197192536acb"
      },
      "source": [
        "df.head(1)"
      ],
      "execution_count": 295,
      "outputs": [
        {
          "output_type": "execute_result",
          "data": {
            "text/html": [
              "<div>\n",
              "<style scoped>\n",
              "    .dataframe tbody tr th:only-of-type {\n",
              "        vertical-align: middle;\n",
              "    }\n",
              "\n",
              "    .dataframe tbody tr th {\n",
              "        vertical-align: top;\n",
              "    }\n",
              "\n",
              "    .dataframe thead th {\n",
              "        text-align: right;\n",
              "    }\n",
              "</style>\n",
              "<table border=\"1\" class=\"dataframe\">\n",
              "  <thead>\n",
              "    <tr style=\"text-align: right;\">\n",
              "      <th></th>\n",
              "      <th>Name</th>\n",
              "      <th>Platform</th>\n",
              "      <th>Year</th>\n",
              "      <th>Genre</th>\n",
              "      <th>Publisher</th>\n",
              "      <th>NA_Sales</th>\n",
              "      <th>EU_Sales</th>\n",
              "      <th>JP_Sales</th>\n",
              "      <th>Other_Sales</th>\n",
              "      <th>Total_Sales</th>\n",
              "    </tr>\n",
              "  </thead>\n",
              "  <tbody>\n",
              "    <tr>\n",
              "      <th>1</th>\n",
              "      <td>Candace Kane's Candy Factory</td>\n",
              "      <td>DS</td>\n",
              "      <td>2008.0</td>\n",
              "      <td>Action</td>\n",
              "      <td>Destineer</td>\n",
              "      <td>0.04</td>\n",
              "      <td>0.0</td>\n",
              "      <td>0.0</td>\n",
              "      <td>0.0</td>\n",
              "      <td>0.04</td>\n",
              "    </tr>\n",
              "  </tbody>\n",
              "</table>\n",
              "</div>"
            ],
            "text/plain": [
              "                           Name Platform  ...  Other_Sales Total_Sales\n",
              "1  Candace Kane's Candy Factory       DS  ...          0.0        0.04\n",
              "\n",
              "[1 rows x 10 columns]"
            ]
          },
          "metadata": {
            "tags": []
          },
          "execution_count": 295
        }
      ]
    },
    {
      "cell_type": "code",
      "metadata": {
        "id": "uXmBNWodUo7F"
      },
      "source": [
        "df4 = df[['NA_Sales', 'EU_Sales',\t'JP_Sales',\t'Other_Sales', 'Total_Sales']]"
      ],
      "execution_count": 296,
      "outputs": []
    },
    {
      "cell_type": "code",
      "metadata": {
        "colab": {
          "base_uri": "https://localhost:8080/",
          "height": 399
        },
        "id": "Twx9CPZsUo-L",
        "outputId": "9d198bfe-0c3a-4ac1-b11d-e179df6f207b"
      },
      "source": [
        "df4"
      ],
      "execution_count": 297,
      "outputs": [
        {
          "output_type": "execute_result",
          "data": {
            "text/html": [
              "<div>\n",
              "<style scoped>\n",
              "    .dataframe tbody tr th:only-of-type {\n",
              "        vertical-align: middle;\n",
              "    }\n",
              "\n",
              "    .dataframe tbody tr th {\n",
              "        vertical-align: top;\n",
              "    }\n",
              "\n",
              "    .dataframe thead th {\n",
              "        text-align: right;\n",
              "    }\n",
              "</style>\n",
              "<table border=\"1\" class=\"dataframe\">\n",
              "  <thead>\n",
              "    <tr style=\"text-align: right;\">\n",
              "      <th></th>\n",
              "      <th>NA_Sales</th>\n",
              "      <th>EU_Sales</th>\n",
              "      <th>JP_Sales</th>\n",
              "      <th>Other_Sales</th>\n",
              "      <th>Total_Sales</th>\n",
              "    </tr>\n",
              "  </thead>\n",
              "  <tbody>\n",
              "    <tr>\n",
              "      <th>1</th>\n",
              "      <td>0.04</td>\n",
              "      <td>0.00</td>\n",
              "      <td>0.00</td>\n",
              "      <td>0.00</td>\n",
              "      <td>0.04</td>\n",
              "    </tr>\n",
              "    <tr>\n",
              "      <th>2</th>\n",
              "      <td>0.17</td>\n",
              "      <td>0.00</td>\n",
              "      <td>0.00</td>\n",
              "      <td>0.01</td>\n",
              "      <td>0.18</td>\n",
              "    </tr>\n",
              "    <tr>\n",
              "      <th>3</th>\n",
              "      <td>0.00</td>\n",
              "      <td>0.00</td>\n",
              "      <td>0.02</td>\n",
              "      <td>0.00</td>\n",
              "      <td>0.02</td>\n",
              "    </tr>\n",
              "    <tr>\n",
              "      <th>4</th>\n",
              "      <td>0.04</td>\n",
              "      <td>0.00</td>\n",
              "      <td>0.00</td>\n",
              "      <td>0.00</td>\n",
              "      <td>0.04</td>\n",
              "    </tr>\n",
              "    <tr>\n",
              "      <th>5</th>\n",
              "      <td>0.12</td>\n",
              "      <td>0.09</td>\n",
              "      <td>0.00</td>\n",
              "      <td>0.04</td>\n",
              "      <td>0.25</td>\n",
              "    </tr>\n",
              "    <tr>\n",
              "      <th>...</th>\n",
              "      <td>...</td>\n",
              "      <td>...</td>\n",
              "      <td>...</td>\n",
              "      <td>...</td>\n",
              "      <td>...</td>\n",
              "    </tr>\n",
              "    <tr>\n",
              "      <th>16594</th>\n",
              "      <td>0.15</td>\n",
              "      <td>0.04</td>\n",
              "      <td>0.00</td>\n",
              "      <td>0.01</td>\n",
              "      <td>0.20</td>\n",
              "    </tr>\n",
              "    <tr>\n",
              "      <th>16595</th>\n",
              "      <td>0.01</td>\n",
              "      <td>0.00</td>\n",
              "      <td>0.00</td>\n",
              "      <td>0.00</td>\n",
              "      <td>0.01</td>\n",
              "    </tr>\n",
              "    <tr>\n",
              "      <th>16596</th>\n",
              "      <td>0.44</td>\n",
              "      <td>0.19</td>\n",
              "      <td>0.03</td>\n",
              "      <td>0.13</td>\n",
              "      <td>0.79</td>\n",
              "    </tr>\n",
              "    <tr>\n",
              "      <th>16597</th>\n",
              "      <td>0.05</td>\n",
              "      <td>0.05</td>\n",
              "      <td>0.25</td>\n",
              "      <td>0.03</td>\n",
              "      <td>0.38</td>\n",
              "    </tr>\n",
              "    <tr>\n",
              "      <th>16598</th>\n",
              "      <td>0.00</td>\n",
              "      <td>0.00</td>\n",
              "      <td>0.16</td>\n",
              "      <td>0.01</td>\n",
              "      <td>0.17</td>\n",
              "    </tr>\n",
              "  </tbody>\n",
              "</table>\n",
              "<p>16235 rows × 5 columns</p>\n",
              "</div>"
            ],
            "text/plain": [
              "       NA_Sales  EU_Sales  JP_Sales  Other_Sales  Total_Sales\n",
              "1          0.04      0.00      0.00         0.00         0.04\n",
              "2          0.17      0.00      0.00         0.01         0.18\n",
              "3          0.00      0.00      0.02         0.00         0.02\n",
              "4          0.04      0.00      0.00         0.00         0.04\n",
              "5          0.12      0.09      0.00         0.04         0.25\n",
              "...         ...       ...       ...          ...          ...\n",
              "16594      0.15      0.04      0.00         0.01         0.20\n",
              "16595      0.01      0.00      0.00         0.00         0.01\n",
              "16596      0.44      0.19      0.03         0.13         0.79\n",
              "16597      0.05      0.05      0.25         0.03         0.38\n",
              "16598      0.00      0.00      0.16         0.01         0.17\n",
              "\n",
              "[16235 rows x 5 columns]"
            ]
          },
          "metadata": {
            "tags": []
          },
          "execution_count": 297
        }
      ]
    },
    {
      "cell_type": "markdown",
      "metadata": {
        "id": "cNKWwI9Ndna9"
      },
      "source": [
        "4-2\n",
        "지역별 판매량(구매력) 추출"
      ]
    },
    {
      "cell_type": "code",
      "metadata": {
        "colab": {
          "base_uri": "https://localhost:8080/"
        },
        "id": "p8EGKyGXUpBV",
        "outputId": "11e6c84a-2ed3-4725-bbf1-ec5f829574e6"
      },
      "source": [
        "#각 지역별 구매량 총합\n",
        "df4['NA_Sales'].sum() , df4['EU_Sales'].sum(), df4['JP_Sales'].sum() , df4['Other_Sales'].sum()"
      ],
      "execution_count": 298,
      "outputs": [
        {
          "output_type": "execute_result",
          "data": {
            "text/plain": [
              "(4305.63, 2393.26, 1271.21, 782.59)"
            ]
          },
          "metadata": {
            "tags": []
          },
          "execution_count": 298
        }
      ]
    },
    {
      "cell_type": "code",
      "metadata": {
        "colab": {
          "base_uri": "https://localhost:8080/"
        },
        "id": "t_qTATwcUpOJ",
        "outputId": "fa6f22f1-9f38-4e9d-8a4f-0d2b45695a2c"
      },
      "source": [
        "#전체 지역 게임 구매력 총합\n",
        "df4['Total_Sales'].sum()"
      ],
      "execution_count": 299,
      "outputs": [
        {
          "output_type": "execute_result",
          "data": {
            "text/plain": [
              "8752.689999999999"
            ]
          },
          "metadata": {
            "tags": []
          },
          "execution_count": 299
        }
      ]
    },
    {
      "cell_type": "code",
      "metadata": {
        "colab": {
          "base_uri": "https://localhost:8080/"
        },
        "id": "JLS-ZXO8UpRp",
        "outputId": "ac183dee-a54e-4599-8d3d-7554445b9de6"
      },
      "source": [
        "print('북미지역 지분 :', (df4['NA_Sales'].sum()/df4['Total_Sales'].sum())*100, '%',\n",
        "      '유럽지역 지분 :', (df4['EU_Sales'].sum()/df4['Total_Sales'].sum())*100, '%',\n",
        "      '일본지역 지분 :', (df4['JP_Sales'].sum()/df4['Total_Sales'].sum())*100, '%',\n",
        "      '기타지역 지분 :', (df4['Other_Sales'].sum()/df4['Total_Sales'].sum())*100, '%')"
      ],
      "execution_count": 300,
      "outputs": [
        {
          "output_type": "stream",
          "text": [
            "북미지역 지분 : 49.192076950057654 % 유럽지역 지분 : 27.3431367956594 % 일본지역 지분 : 14.523649300957766 % 기타지역 지분 : 8.94113695332521 %\n"
          ],
          "name": "stdout"
        }
      ]
    },
    {
      "cell_type": "markdown",
      "metadata": {
        "id": "AaTmFoOql6JJ"
      },
      "source": [
        "북미지역의 판매율이 전체의 약 49%를 차지하고 있기 때문에, 다음 분기에 설계해야 할 게임은 북미지역의 트렌드에 맞춰 설계해야한다.\n",
        "\n",
        "1번 분석에서 북미 지역은 Action, Sports, shooter 장르를 선호하는 경향을 보였다.\n",
        "\n",
        "2번 분석에서 나온 결과를 토대로 2010년대(2010년 - 2019년)의 게임트렌드는 \n",
        "\n",
        "플랫폼 : PS3(878), X360(677), DS(505)\n",
        "\n",
        "장르 : Action(1429), Sports(566), Misc(557)\n",
        "\n",
        "발행사 : Namco Bandai Games(459), Activision(337), Electronic Arts(336)이었다. "
      ]
    },
    {
      "cell_type": "markdown",
      "metadata": {
        "id": "J7zEmLJjnrPh"
      },
      "source": [
        "# 결론 : \n",
        "\n",
        "분석 결과들을 종합해본 결과, 다음 분기에 설계해야 할 게임은\n",
        "\n",
        "1. Platform = \"PS3\",\n",
        "2. Genre = \"Action\",\n",
        "3. Publisher = \"Namco Bandai Games\"\n",
        "\n",
        "라는 세 가지 조건을 만족하는 게임이다."
      ]
    },
    {
      "cell_type": "markdown",
      "metadata": {
        "id": "5gZYpi7hoeBc"
      },
      "source": [
        "# 보완해야할 점\n",
        "\n",
        "1. 전처리 단계에서 판다스를 이용하지 못하고 엑셀로 진행해서 실수로 인한 오류가 있을 수도 있다. 동시에 전처리 단계에서 시간을 너무 낭비해서 제대로 된 분석을 하는 시간이 충분하지 않았다.\n",
        "\n",
        "2. 전처리 단계에서 임의로 3% 미만의 자료를 삭제하고 분석을 진행했는데, 여기서 사라진 자료들이 이후 분석에 어떤 영향을 끼칠 수 있는 지 검증하지 않았다.\n",
        "\n",
        "3. 분석을 끝내고 결론을 작성한 이후에 'Genre'와 'Publisher'라는 feature 사이에 상관관계가 있을 수 있다는 생각이 들었다. 'Genre'의 구분 기준을 자세히 알 수는 없지만 경험적으로 \"Namco Bandai Games\"보다는 \"Activision\"과 \"Electronic Arts\"의 Action장르 게임이 더 많을 것이라는 생각이 들기 때문이다. 경험적이 아니라 객관적인 정보를 얻고 분석에 적용하기 위해서 T-test를 진행해야 한다."
      ]
    }
  ]
}